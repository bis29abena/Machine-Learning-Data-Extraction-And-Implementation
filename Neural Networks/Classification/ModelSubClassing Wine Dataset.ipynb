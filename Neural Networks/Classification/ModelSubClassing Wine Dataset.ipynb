{
 "cells": [
  {
   "cell_type": "code",
   "execution_count": 27,
   "id": "3f212422",
   "metadata": {},
   "outputs": [],
   "source": [
    "import numpy as np\n",
    "import pandas as pd\n",
    "\n",
    "from sklearn.model_selection import train_test_split\n",
    "from sklearn.preprocessing import StandardScaler\n",
    "from sklearn import datasets\n",
    "from sklearn.metrics import accuracy_score\n",
    "\n",
    "import tensorflow as tf\n",
    "from tensorflow import keras\n",
    "from tensorflow.keras import layers\n",
    "from tensorflow.keras import Model\n",
    "from tensorflow.keras.utils import to_categorical"
   ]
  },
  {
   "cell_type": "code",
   "execution_count": 28,
   "id": "a0d66f78",
   "metadata": {},
   "outputs": [
    {
     "name": "stdout",
     "output_type": "stream",
     "text": [
      ".. _wine_dataset:\n",
      "\n",
      "Wine recognition dataset\n",
      "------------------------\n",
      "\n",
      "**Data Set Characteristics:**\n",
      "\n",
      "    :Number of Instances: 178\n",
      "    :Number of Attributes: 13 numeric, predictive attributes and the class\n",
      "    :Attribute Information:\n",
      " \t\t- Alcohol\n",
      " \t\t- Malic acid\n",
      " \t\t- Ash\n",
      "\t\t- Alcalinity of ash  \n",
      " \t\t- Magnesium\n",
      "\t\t- Total phenols\n",
      " \t\t- Flavanoids\n",
      " \t\t- Nonflavanoid phenols\n",
      " \t\t- Proanthocyanins\n",
      "\t\t- Color intensity\n",
      " \t\t- Hue\n",
      " \t\t- OD280/OD315 of diluted wines\n",
      " \t\t- Proline\n",
      "\n",
      "    - class:\n",
      "            - class_0\n",
      "            - class_1\n",
      "            - class_2\n",
      "\t\t\n",
      "    :Summary Statistics:\n",
      "    \n",
      "    ============================= ==== ===== ======= =====\n",
      "                                   Min   Max   Mean     SD\n",
      "    ============================= ==== ===== ======= =====\n",
      "    Alcohol:                      11.0  14.8    13.0   0.8\n",
      "    Malic Acid:                   0.74  5.80    2.34  1.12\n",
      "    Ash:                          1.36  3.23    2.36  0.27\n",
      "    Alcalinity of Ash:            10.6  30.0    19.5   3.3\n",
      "    Magnesium:                    70.0 162.0    99.7  14.3\n",
      "    Total Phenols:                0.98  3.88    2.29  0.63\n",
      "    Flavanoids:                   0.34  5.08    2.03  1.00\n",
      "    Nonflavanoid Phenols:         0.13  0.66    0.36  0.12\n",
      "    Proanthocyanins:              0.41  3.58    1.59  0.57\n",
      "    Colour Intensity:              1.3  13.0     5.1   2.3\n",
      "    Hue:                          0.48  1.71    0.96  0.23\n",
      "    OD280/OD315 of diluted wines: 1.27  4.00    2.61  0.71\n",
      "    Proline:                       278  1680     746   315\n",
      "    ============================= ==== ===== ======= =====\n",
      "\n",
      "    :Missing Attribute Values: None\n",
      "    :Class Distribution: class_0 (59), class_1 (71), class_2 (48)\n",
      "    :Creator: R.A. Fisher\n",
      "    :Donor: Michael Marshall (MARSHALL%PLU@io.arc.nasa.gov)\n",
      "    :Date: July, 1988\n",
      "\n",
      "This is a copy of UCI ML Wine recognition datasets.\n",
      "https://archive.ics.uci.edu/ml/machine-learning-databases/wine/wine.data\n",
      "\n",
      "The data is the results of a chemical analysis of wines grown in the same\n",
      "region in Italy by three different cultivators. There are thirteen different\n",
      "measurements taken for different constituents found in the three types of\n",
      "wine.\n",
      "\n",
      "Original Owners: \n",
      "\n",
      "Forina, M. et al, PARVUS - \n",
      "An Extendible Package for Data Exploration, Classification and Correlation. \n",
      "Institute of Pharmaceutical and Food Analysis and Technologies,\n",
      "Via Brigata Salerno, 16147 Genoa, Italy.\n",
      "\n",
      "Citation:\n",
      "\n",
      "Lichman, M. (2013). UCI Machine Learning Repository\n",
      "[https://archive.ics.uci.edu/ml]. Irvine, CA: University of California,\n",
      "School of Information and Computer Science. \n",
      "\n",
      ".. topic:: References\n",
      "\n",
      "  (1) S. Aeberhard, D. Coomans and O. de Vel, \n",
      "  Comparison of Classifiers in High Dimensional Settings, \n",
      "  Tech. Rep. no. 92-02, (1992), Dept. of Computer Science and Dept. of  \n",
      "  Mathematics and Statistics, James Cook University of North Queensland. \n",
      "  (Also submitted to Technometrics). \n",
      "\n",
      "  The data was used with many others for comparing various \n",
      "  classifiers. The classes are separable, though only RDA \n",
      "  has achieved 100% correct classification. \n",
      "  (RDA : 100%, QDA 99.4%, LDA 98.9%, 1NN 96.1% (z-transformed data)) \n",
      "  (All results using the leave-one-out technique) \n",
      "\n",
      "  (2) S. Aeberhard, D. Coomans and O. de Vel, \n",
      "  \"THE CLASSIFICATION PERFORMANCE OF RDA\" \n",
      "  Tech. Rep. no. 92-01, (1992), Dept. of Computer Science and Dept. of \n",
      "  Mathematics and Statistics, James Cook University of North Queensland. \n",
      "  (Also submitted to Journal of Chemometrics).\n",
      "\n"
     ]
    }
   ],
   "source": [
    "wine_data = datasets.load_wine()\n",
    "\n",
    "print(wine_data[\"DESCR\"])"
   ]
  },
  {
   "cell_type": "code",
   "execution_count": 29,
   "id": "b8517b69",
   "metadata": {},
   "outputs": [
    {
     "data": {
      "text/html": [
       "<div>\n",
       "<style scoped>\n",
       "    .dataframe tbody tr th:only-of-type {\n",
       "        vertical-align: middle;\n",
       "    }\n",
       "\n",
       "    .dataframe tbody tr th {\n",
       "        vertical-align: top;\n",
       "    }\n",
       "\n",
       "    .dataframe thead th {\n",
       "        text-align: right;\n",
       "    }\n",
       "</style>\n",
       "<table border=\"1\" class=\"dataframe\">\n",
       "  <thead>\n",
       "    <tr style=\"text-align: right;\">\n",
       "      <th></th>\n",
       "      <th>alcohol</th>\n",
       "      <th>malic_acid</th>\n",
       "      <th>ash</th>\n",
       "      <th>alcalinity_of_ash</th>\n",
       "      <th>magnesium</th>\n",
       "      <th>total_phenols</th>\n",
       "      <th>flavanoids</th>\n",
       "      <th>nonflavanoid_phenols</th>\n",
       "      <th>proanthocyanins</th>\n",
       "      <th>color_intensity</th>\n",
       "      <th>hue</th>\n",
       "      <th>od280/od315_of_diluted_wines</th>\n",
       "      <th>proline</th>\n",
       "      <th>target</th>\n",
       "    </tr>\n",
       "  </thead>\n",
       "  <tbody>\n",
       "    <tr>\n",
       "      <th>140</th>\n",
       "      <td>12.93</td>\n",
       "      <td>2.81</td>\n",
       "      <td>2.70</td>\n",
       "      <td>21.0</td>\n",
       "      <td>96.0</td>\n",
       "      <td>1.54</td>\n",
       "      <td>0.50</td>\n",
       "      <td>0.53</td>\n",
       "      <td>0.75</td>\n",
       "      <td>4.60</td>\n",
       "      <td>0.77</td>\n",
       "      <td>2.31</td>\n",
       "      <td>600.0</td>\n",
       "      <td>2</td>\n",
       "    </tr>\n",
       "    <tr>\n",
       "      <th>127</th>\n",
       "      <td>11.79</td>\n",
       "      <td>2.13</td>\n",
       "      <td>2.78</td>\n",
       "      <td>28.5</td>\n",
       "      <td>92.0</td>\n",
       "      <td>2.13</td>\n",
       "      <td>2.24</td>\n",
       "      <td>0.58</td>\n",
       "      <td>1.76</td>\n",
       "      <td>3.00</td>\n",
       "      <td>0.97</td>\n",
       "      <td>2.44</td>\n",
       "      <td>466.0</td>\n",
       "      <td>1</td>\n",
       "    </tr>\n",
       "    <tr>\n",
       "      <th>78</th>\n",
       "      <td>12.33</td>\n",
       "      <td>0.99</td>\n",
       "      <td>1.95</td>\n",
       "      <td>14.8</td>\n",
       "      <td>136.0</td>\n",
       "      <td>1.90</td>\n",
       "      <td>1.85</td>\n",
       "      <td>0.35</td>\n",
       "      <td>2.76</td>\n",
       "      <td>3.40</td>\n",
       "      <td>1.06</td>\n",
       "      <td>2.31</td>\n",
       "      <td>750.0</td>\n",
       "      <td>1</td>\n",
       "    </tr>\n",
       "    <tr>\n",
       "      <th>165</th>\n",
       "      <td>13.73</td>\n",
       "      <td>4.36</td>\n",
       "      <td>2.26</td>\n",
       "      <td>22.5</td>\n",
       "      <td>88.0</td>\n",
       "      <td>1.28</td>\n",
       "      <td>0.47</td>\n",
       "      <td>0.52</td>\n",
       "      <td>1.15</td>\n",
       "      <td>6.62</td>\n",
       "      <td>0.78</td>\n",
       "      <td>1.75</td>\n",
       "      <td>520.0</td>\n",
       "      <td>2</td>\n",
       "    </tr>\n",
       "    <tr>\n",
       "      <th>163</th>\n",
       "      <td>12.96</td>\n",
       "      <td>3.45</td>\n",
       "      <td>2.35</td>\n",
       "      <td>18.5</td>\n",
       "      <td>106.0</td>\n",
       "      <td>1.39</td>\n",
       "      <td>0.70</td>\n",
       "      <td>0.40</td>\n",
       "      <td>0.94</td>\n",
       "      <td>5.28</td>\n",
       "      <td>0.68</td>\n",
       "      <td>1.75</td>\n",
       "      <td>675.0</td>\n",
       "      <td>2</td>\n",
       "    </tr>\n",
       "  </tbody>\n",
       "</table>\n",
       "</div>"
      ],
      "text/plain": [
       "     alcohol  malic_acid   ash  alcalinity_of_ash  ...   hue  od280/od315_of_diluted_wines  proline  target\n",
       "140    12.93        2.81  2.70               21.0  ...  0.77                          2.31    600.0       2\n",
       "127    11.79        2.13  2.78               28.5  ...  0.97                          2.44    466.0       1\n",
       "78     12.33        0.99  1.95               14.8  ...  1.06                          2.31    750.0       1\n",
       "165    13.73        4.36  2.26               22.5  ...  0.78                          1.75    520.0       2\n",
       "163    12.96        3.45  2.35               18.5  ...  0.68                          1.75    675.0       2\n",
       "\n",
       "[5 rows x 14 columns]"
      ]
     },
     "execution_count": 29,
     "metadata": {},
     "output_type": "execute_result"
    }
   ],
   "source": [
    "data = pd.DataFrame(data=wine_data[\"data\"], columns=wine_data[\"feature_names\"])\n",
    "\n",
    "data[\"target\"] = wine_data[\"target\"]\n",
    "\n",
    "data.sample(5)"
   ]
  },
  {
   "cell_type": "code",
   "execution_count": 30,
   "id": "3137cb93",
   "metadata": {},
   "outputs": [
    {
     "data": {
      "text/plain": [
       "(178, 14)"
      ]
     },
     "execution_count": 30,
     "metadata": {},
     "output_type": "execute_result"
    }
   ],
   "source": [
    "data.shape"
   ]
  },
  {
   "cell_type": "code",
   "execution_count": 31,
   "id": "8ef30865",
   "metadata": {},
   "outputs": [
    {
     "data": {
      "text/plain": [
       "alcohol                         0\n",
       "malic_acid                      0\n",
       "ash                             0\n",
       "alcalinity_of_ash               0\n",
       "magnesium                       0\n",
       "total_phenols                   0\n",
       "flavanoids                      0\n",
       "nonflavanoid_phenols            0\n",
       "proanthocyanins                 0\n",
       "color_intensity                 0\n",
       "hue                             0\n",
       "od280/od315_of_diluted_wines    0\n",
       "proline                         0\n",
       "target                          0\n",
       "dtype: int64"
      ]
     },
     "execution_count": 31,
     "metadata": {},
     "output_type": "execute_result"
    }
   ],
   "source": [
    "data.isna().sum()"
   ]
  },
  {
   "cell_type": "code",
   "execution_count": 32,
   "id": "c2aa3301",
   "metadata": {},
   "outputs": [
    {
     "data": {
      "text/plain": [
       "1    71\n",
       "0    59\n",
       "2    48\n",
       "Name: target, dtype: int64"
      ]
     },
     "execution_count": 32,
     "metadata": {},
     "output_type": "execute_result"
    }
   ],
   "source": [
    "import seaborn as sns\n",
    "\n",
    "data[\"target\"].value_counts()"
   ]
  },
  {
   "cell_type": "code",
   "execution_count": 33,
   "id": "faf09999",
   "metadata": {},
   "outputs": [
    {
     "data": {
      "text/plain": [
       "<seaborn.axisgrid.FacetGrid at 0x268f3f21450>"
      ]
     },
     "execution_count": 33,
     "metadata": {},
     "output_type": "execute_result"
    },
    {
     "data": {
      "image/png": "[encoded data removed]",
      "text/plain": [
       "<Figure size 500x500 with 1 Axes>"
      ]
     },
     "metadata": {},
     "output_type": "display_data"
    }
   ],
   "source": [
    "sns.displot(data[\"alcohol\"], kde=1)"
   ]
  },
  {
   "cell_type": "code",
   "execution_count": 34,
   "id": "47dd3706",
   "metadata": {},
   "outputs": [
    {
     "data": {
      "image/png": "[encoded data removed]",
      "text/plain": [
       "<Figure size 1000x600 with 1 Axes>"
      ]
     },
     "metadata": {},
     "output_type": "display_data"
    }
   ],
   "source": [
    "import matplotlib.pyplot as plt\n",
    "\n",
    "plt.figure(figsize=[10,6])\n",
    "\n",
    "sns.boxplot(x=\"target\", y=\"alcohol\", data=data)\n",
    "\n",
    "plt.xlabel(\"Class\")\n",
    "plt.ylabel(\"Alcohol\")\n",
    "\n",
    "plt.show()"
   ]
  },
  {
   "cell_type": "code",
   "execution_count": 35,
   "id": "c552fbc4",
   "metadata": {},
   "outputs": [],
   "source": [
    "features = data.drop(\"target\", axis=1)\n",
    "\n",
    "target = data[[\"target\"]]"
   ]
  },
  {
   "cell_type": "code",
   "execution_count": 36,
   "id": "2594bbf8",
   "metadata": {},
   "outputs": [
    {
     "data": {
      "text/html": [
       "<div>\n",
       "<style scoped>\n",
       "    .dataframe tbody tr th:only-of-type {\n",
       "        vertical-align: middle;\n",
       "    }\n",
       "\n",
       "    .dataframe tbody tr th {\n",
       "        vertical-align: top;\n",
       "    }\n",
       "\n",
       "    .dataframe thead th {\n",
       "        text-align: right;\n",
       "    }\n",
       "</style>\n",
       "<table border=\"1\" class=\"dataframe\">\n",
       "  <thead>\n",
       "    <tr style=\"text-align: right;\">\n",
       "      <th></th>\n",
       "      <th>alcohol</th>\n",
       "      <th>malic_acid</th>\n",
       "      <th>ash</th>\n",
       "      <th>alcalinity_of_ash</th>\n",
       "      <th>magnesium</th>\n",
       "      <th>total_phenols</th>\n",
       "      <th>flavanoids</th>\n",
       "      <th>nonflavanoid_phenols</th>\n",
       "      <th>proanthocyanins</th>\n",
       "      <th>color_intensity</th>\n",
       "      <th>hue</th>\n",
       "      <th>od280/od315_of_diluted_wines</th>\n",
       "      <th>proline</th>\n",
       "    </tr>\n",
       "  </thead>\n",
       "  <tbody>\n",
       "    <tr>\n",
       "      <th>21</th>\n",
       "      <td>12.93</td>\n",
       "      <td>3.80</td>\n",
       "      <td>2.65</td>\n",
       "      <td>18.6</td>\n",
       "      <td>102.0</td>\n",
       "      <td>2.41</td>\n",
       "      <td>2.41</td>\n",
       "      <td>0.25</td>\n",
       "      <td>1.98</td>\n",
       "      <td>4.50</td>\n",
       "      <td>1.03</td>\n",
       "      <td>3.52</td>\n",
       "      <td>770.0</td>\n",
       "    </tr>\n",
       "    <tr>\n",
       "      <th>87</th>\n",
       "      <td>11.65</td>\n",
       "      <td>1.67</td>\n",
       "      <td>2.62</td>\n",
       "      <td>26.0</td>\n",
       "      <td>88.0</td>\n",
       "      <td>1.92</td>\n",
       "      <td>1.61</td>\n",
       "      <td>0.40</td>\n",
       "      <td>1.34</td>\n",
       "      <td>2.60</td>\n",
       "      <td>1.36</td>\n",
       "      <td>3.21</td>\n",
       "      <td>562.0</td>\n",
       "    </tr>\n",
       "    <tr>\n",
       "      <th>86</th>\n",
       "      <td>12.16</td>\n",
       "      <td>1.61</td>\n",
       "      <td>2.31</td>\n",
       "      <td>22.8</td>\n",
       "      <td>90.0</td>\n",
       "      <td>1.78</td>\n",
       "      <td>1.69</td>\n",
       "      <td>0.43</td>\n",
       "      <td>1.56</td>\n",
       "      <td>2.45</td>\n",
       "      <td>1.33</td>\n",
       "      <td>2.26</td>\n",
       "      <td>495.0</td>\n",
       "    </tr>\n",
       "    <tr>\n",
       "      <th>155</th>\n",
       "      <td>13.17</td>\n",
       "      <td>5.19</td>\n",
       "      <td>2.32</td>\n",
       "      <td>22.0</td>\n",
       "      <td>93.0</td>\n",
       "      <td>1.74</td>\n",
       "      <td>0.63</td>\n",
       "      <td>0.61</td>\n",
       "      <td>1.55</td>\n",
       "      <td>7.90</td>\n",
       "      <td>0.60</td>\n",
       "      <td>1.48</td>\n",
       "      <td>725.0</td>\n",
       "    </tr>\n",
       "    <tr>\n",
       "      <th>20</th>\n",
       "      <td>14.06</td>\n",
       "      <td>1.63</td>\n",
       "      <td>2.28</td>\n",
       "      <td>16.0</td>\n",
       "      <td>126.0</td>\n",
       "      <td>3.00</td>\n",
       "      <td>3.17</td>\n",
       "      <td>0.24</td>\n",
       "      <td>2.10</td>\n",
       "      <td>5.65</td>\n",
       "      <td>1.09</td>\n",
       "      <td>3.71</td>\n",
       "      <td>780.0</td>\n",
       "    </tr>\n",
       "  </tbody>\n",
       "</table>\n",
       "</div>"
      ],
      "text/plain": [
       "     alcohol  malic_acid   ash  alcalinity_of_ash  ...  color_intensity   hue  od280/od315_of_diluted_wines  proline\n",
       "21     12.93        3.80  2.65               18.6  ...             4.50  1.03                          3.52    770.0\n",
       "87     11.65        1.67  2.62               26.0  ...             2.60  1.36                          3.21    562.0\n",
       "86     12.16        1.61  2.31               22.8  ...             2.45  1.33                          2.26    495.0\n",
       "155    13.17        5.19  2.32               22.0  ...             7.90  0.60                          1.48    725.0\n",
       "20     14.06        1.63  2.28               16.0  ...             5.65  1.09                          3.71    780.0\n",
       "\n",
       "[5 rows x 13 columns]"
      ]
     },
     "execution_count": 36,
     "metadata": {},
     "output_type": "execute_result"
    }
   ],
   "source": [
    "features.sample(5)"
   ]
  },
  {
   "cell_type": "code",
   "execution_count": 37,
   "id": "35ab4b76",
   "metadata": {},
   "outputs": [
    {
     "data": {
      "text/html": [
       "<div>\n",
       "<style scoped>\n",
       "    .dataframe tbody tr th:only-of-type {\n",
       "        vertical-align: middle;\n",
       "    }\n",
       "\n",
       "    .dataframe tbody tr th {\n",
       "        vertical-align: top;\n",
       "    }\n",
       "\n",
       "    .dataframe thead th {\n",
       "        text-align: right;\n",
       "    }\n",
       "</style>\n",
       "<table border=\"1\" class=\"dataframe\">\n",
       "  <thead>\n",
       "    <tr style=\"text-align: right;\">\n",
       "      <th></th>\n",
       "      <th>alcohol</th>\n",
       "      <th>malic_acid</th>\n",
       "      <th>ash</th>\n",
       "      <th>alcalinity_of_ash</th>\n",
       "      <th>magnesium</th>\n",
       "      <th>total_phenols</th>\n",
       "      <th>flavanoids</th>\n",
       "      <th>nonflavanoid_phenols</th>\n",
       "      <th>proanthocyanins</th>\n",
       "      <th>color_intensity</th>\n",
       "      <th>hue</th>\n",
       "      <th>od280/od315_of_diluted_wines</th>\n",
       "      <th>proline</th>\n",
       "    </tr>\n",
       "  </thead>\n",
       "  <tbody>\n",
       "    <tr>\n",
       "      <th>147</th>\n",
       "      <td>-0.161348</td>\n",
       "      <td>2.040973</td>\n",
       "      <td>0.414820</td>\n",
       "      <td>0.602088</td>\n",
       "      <td>-0.964842</td>\n",
       "      <td>-0.953567</td>\n",
       "      <td>-1.384741</td>\n",
       "      <td>0.871420</td>\n",
       "      <td>-1.280596</td>\n",
       "      <td>1.121183</td>\n",
       "      <td>-1.831492</td>\n",
       "      <td>-1.061713</td>\n",
       "      <td>-0.388168</td>\n",
       "    </tr>\n",
       "    <tr>\n",
       "      <th>128</th>\n",
       "      <td>-0.778980</td>\n",
       "      <td>-0.634063</td>\n",
       "      <td>-0.243142</td>\n",
       "      <td>1.502943</td>\n",
       "      <td>-0.824415</td>\n",
       "      <td>-0.120355</td>\n",
       "      <td>0.422399</td>\n",
       "      <td>0.307374</td>\n",
       "      <td>0.541571</td>\n",
       "      <td>-1.270929</td>\n",
       "      <td>-0.295924</td>\n",
       "      <td>0.237735</td>\n",
       "      <td>-1.289380</td>\n",
       "    </tr>\n",
       "    <tr>\n",
       "      <th>134</th>\n",
       "      <td>-0.606043</td>\n",
       "      <td>-0.984151</td>\n",
       "      <td>-0.425909</td>\n",
       "      <td>-0.599052</td>\n",
       "      <td>-1.035055</td>\n",
       "      <td>-0.472868</td>\n",
       "      <td>-1.455019</td>\n",
       "      <td>1.918935</td>\n",
       "      <td>-0.597284</td>\n",
       "      <td>0.169529</td>\n",
       "      <td>-0.910151</td>\n",
       "      <td>-1.556068</td>\n",
       "      <td>-0.308556</td>\n",
       "    </tr>\n",
       "    <tr>\n",
       "      <th>145</th>\n",
       "      <td>0.196879</td>\n",
       "      <td>1.107404</td>\n",
       "      <td>-0.791443</td>\n",
       "      <td>0.451946</td>\n",
       "      <td>0.158572</td>\n",
       "      <td>-1.274034</td>\n",
       "      <td>-1.485138</td>\n",
       "      <td>0.549108</td>\n",
       "      <td>-0.509679</td>\n",
       "      <td>-0.457698</td>\n",
       "      <td>-1.568252</td>\n",
       "      <td>-1.315952</td>\n",
       "      <td>0.264653</td>\n",
       "    </tr>\n",
       "    <tr>\n",
       "      <th>135</th>\n",
       "      <td>-0.494869</td>\n",
       "      <td>0.110998</td>\n",
       "      <td>-0.608676</td>\n",
       "      <td>-0.298767</td>\n",
       "      <td>-0.403135</td>\n",
       "      <td>-1.081754</td>\n",
       "      <td>-1.374701</td>\n",
       "      <td>2.160669</td>\n",
       "      <td>-1.140430</td>\n",
       "      <td>0.883269</td>\n",
       "      <td>-0.997898</td>\n",
       "      <td>-1.457197</td>\n",
       "      <td>-0.165254</td>\n",
       "    </tr>\n",
       "    <tr>\n",
       "      <th>73</th>\n",
       "      <td>-0.013116</td>\n",
       "      <td>-0.598156</td>\n",
       "      <td>0.853460</td>\n",
       "      <td>3.154511</td>\n",
       "      <td>2.756465</td>\n",
       "      <td>1.610163</td>\n",
       "      <td>0.864145</td>\n",
       "      <td>-1.223610</td>\n",
       "      <td>0.646696</td>\n",
       "      <td>-0.738868</td>\n",
       "      <td>1.546759</td>\n",
       "      <td>1.254694</td>\n",
       "      <td>0.758249</td>\n",
       "    </tr>\n",
       "    <tr>\n",
       "      <th>56</th>\n",
       "      <td>1.506260</td>\n",
       "      <td>-0.571226</td>\n",
       "      <td>-0.243142</td>\n",
       "      <td>-0.959394</td>\n",
       "      <td>1.281985</td>\n",
       "      <td>1.449930</td>\n",
       "      <td>0.974581</td>\n",
       "      <td>-0.820719</td>\n",
       "      <td>0.769342</td>\n",
       "      <td>0.571819</td>\n",
       "      <td>-0.076557</td>\n",
       "      <td>0.986329</td>\n",
       "      <td>0.710482</td>\n",
       "    </tr>\n",
       "    <tr>\n",
       "      <th>120</th>\n",
       "      <td>-1.915424</td>\n",
       "      <td>0.057138</td>\n",
       "      <td>0.195499</td>\n",
       "      <td>0.151661</td>\n",
       "      <td>-0.262708</td>\n",
       "      <td>0.969231</td>\n",
       "      <td>0.763748</td>\n",
       "      <td>-0.337251</td>\n",
       "      <td>0.418925</td>\n",
       "      <td>-0.782125</td>\n",
       "      <td>-0.690784</td>\n",
       "      <td>1.099325</td>\n",
       "      <td>-0.388168</td>\n",
       "    </tr>\n",
       "    <tr>\n",
       "      <th>138</th>\n",
       "      <td>0.604516</td>\n",
       "      <td>1.125357</td>\n",
       "      <td>-0.645229</td>\n",
       "      <td>0.001518</td>\n",
       "      <td>-0.824415</td>\n",
       "      <td>-1.081754</td>\n",
       "      <td>-1.555415</td>\n",
       "      <td>1.757779</td>\n",
       "      <td>-1.245555</td>\n",
       "      <td>0.277671</td>\n",
       "      <td>-0.646911</td>\n",
       "      <td>-1.118210</td>\n",
       "      <td>-0.531471</td>\n",
       "    </tr>\n",
       "    <tr>\n",
       "      <th>136</th>\n",
       "      <td>-0.927212</td>\n",
       "      <td>2.139716</td>\n",
       "      <td>0.634140</td>\n",
       "      <td>0.451946</td>\n",
       "      <td>-0.754202</td>\n",
       "      <td>-1.466313</td>\n",
       "      <td>-1.565455</td>\n",
       "      <td>1.354888</td>\n",
       "      <td>-1.385721</td>\n",
       "      <td>-0.522583</td>\n",
       "      <td>-0.910151</td>\n",
       "      <td>-1.895054</td>\n",
       "      <td>-0.085641</td>\n",
       "    </tr>\n",
       "  </tbody>\n",
       "</table>\n",
       "</div>"
      ],
      "text/plain": [
       "      alcohol  malic_acid       ash  ...       hue  od280/od315_of_diluted_wines   proline\n",
       "147 -0.161348    2.040973  0.414820  ... -1.831492                     -1.061713 -0.388168\n",
       "128 -0.778980   -0.634063 -0.243142  ... -0.295924                      0.237735 -1.289380\n",
       "134 -0.606043   -0.984151 -0.425909  ... -0.910151                     -1.556068 -0.308556\n",
       "145  0.196879    1.107404 -0.791443  ... -1.568252                     -1.315952  0.264653\n",
       "135 -0.494869    0.110998 -0.608676  ... -0.997898                     -1.457197 -0.165254\n",
       "73  -0.013116   -0.598156  0.853460  ...  1.546759                      1.254694  0.758249\n",
       "56   1.506260   -0.571226 -0.243142  ... -0.076557                      0.986329  0.710482\n",
       "120 -1.915424    0.057138  0.195499  ... -0.690784                      1.099325 -0.388168\n",
       "138  0.604516    1.125357 -0.645229  ... -0.646911                     -1.118210 -0.531471\n",
       "136 -0.927212    2.139716  0.634140  ... -0.910151                     -1.895054 -0.085641\n",
       "\n",
       "[10 rows x 13 columns]"
      ]
     },
     "execution_count": 37,
     "metadata": {},
     "output_type": "execute_result"
    }
   ],
   "source": [
    "sc = StandardScaler()\n",
    "\n",
    "processesed_features = pd.DataFrame(data=sc.fit_transform(features),\n",
    "                                   columns=features.columns,\n",
    "                                   index= features.index)\n",
    "\n",
    "processesed_features.sample(10)"
   ]
  },
  {
   "cell_type": "code",
   "execution_count": 38,
   "id": "73b1374d",
   "metadata": {},
   "outputs": [
    {
     "data": {
      "text/html": [
       "<div>\n",
       "<style scoped>\n",
       "    .dataframe tbody tr th:only-of-type {\n",
       "        vertical-align: middle;\n",
       "    }\n",
       "\n",
       "    .dataframe tbody tr th {\n",
       "        vertical-align: top;\n",
       "    }\n",
       "\n",
       "    .dataframe thead th {\n",
       "        text-align: right;\n",
       "    }\n",
       "</style>\n",
       "<table border=\"1\" class=\"dataframe\">\n",
       "  <thead>\n",
       "    <tr style=\"text-align: right;\">\n",
       "      <th></th>\n",
       "      <th>count</th>\n",
       "      <th>mean</th>\n",
       "      <th>std</th>\n",
       "      <th>min</th>\n",
       "      <th>25%</th>\n",
       "      <th>50%</th>\n",
       "      <th>75%</th>\n",
       "      <th>max</th>\n",
       "    </tr>\n",
       "  </thead>\n",
       "  <tbody>\n",
       "    <tr>\n",
       "      <th>alcohol</th>\n",
       "      <td>178.0</td>\n",
       "      <td>7.943708e-15</td>\n",
       "      <td>1.002821</td>\n",
       "      <td>-2.434235</td>\n",
       "      <td>-0.788245</td>\n",
       "      <td>0.061000</td>\n",
       "      <td>0.836129</td>\n",
       "      <td>2.259772</td>\n",
       "    </tr>\n",
       "    <tr>\n",
       "      <th>malic_acid</th>\n",
       "      <td>178.0</td>\n",
       "      <td>3.592632e-16</td>\n",
       "      <td>1.002821</td>\n",
       "      <td>-1.432983</td>\n",
       "      <td>-0.658749</td>\n",
       "      <td>-0.423112</td>\n",
       "      <td>0.669793</td>\n",
       "      <td>3.109192</td>\n",
       "    </tr>\n",
       "    <tr>\n",
       "      <th>ash</th>\n",
       "      <td>178.0</td>\n",
       "      <td>-4.066660e-15</td>\n",
       "      <td>1.002821</td>\n",
       "      <td>-3.679162</td>\n",
       "      <td>-0.572122</td>\n",
       "      <td>-0.023821</td>\n",
       "      <td>0.698109</td>\n",
       "      <td>3.156325</td>\n",
       "    </tr>\n",
       "    <tr>\n",
       "      <th>alcalinity_of_ash</th>\n",
       "      <td>178.0</td>\n",
       "      <td>-7.983626e-17</td>\n",
       "      <td>1.002821</td>\n",
       "      <td>-2.671018</td>\n",
       "      <td>-0.689137</td>\n",
       "      <td>0.001518</td>\n",
       "      <td>0.602088</td>\n",
       "      <td>3.154511</td>\n",
       "    </tr>\n",
       "    <tr>\n",
       "      <th>magnesium</th>\n",
       "      <td>178.0</td>\n",
       "      <td>-7.983626e-17</td>\n",
       "      <td>1.002821</td>\n",
       "      <td>-2.088255</td>\n",
       "      <td>-0.824415</td>\n",
       "      <td>-0.122282</td>\n",
       "      <td>0.509638</td>\n",
       "      <td>4.371372</td>\n",
       "    </tr>\n",
       "    <tr>\n",
       "      <th>total_phenols</th>\n",
       "      <td>178.0</td>\n",
       "      <td>-3.991813e-17</td>\n",
       "      <td>1.002821</td>\n",
       "      <td>-2.107246</td>\n",
       "      <td>-0.885468</td>\n",
       "      <td>0.095960</td>\n",
       "      <td>0.808997</td>\n",
       "      <td>2.539515</td>\n",
       "    </tr>\n",
       "    <tr>\n",
       "      <th>flavanoids</th>\n",
       "      <td>178.0</td>\n",
       "      <td>9.979533e-16</td>\n",
       "      <td>1.002821</td>\n",
       "      <td>-1.695971</td>\n",
       "      <td>-0.827539</td>\n",
       "      <td>0.106150</td>\n",
       "      <td>0.849085</td>\n",
       "      <td>3.062832</td>\n",
       "    </tr>\n",
       "    <tr>\n",
       "      <th>nonflavanoid_phenols</th>\n",
       "      <td>178.0</td>\n",
       "      <td>-5.588538e-16</td>\n",
       "      <td>1.002821</td>\n",
       "      <td>-1.868234</td>\n",
       "      <td>-0.740141</td>\n",
       "      <td>-0.176095</td>\n",
       "      <td>0.609541</td>\n",
       "      <td>2.402403</td>\n",
       "    </tr>\n",
       "    <tr>\n",
       "      <th>proanthocyanins</th>\n",
       "      <td>178.0</td>\n",
       "      <td>-1.656602e-15</td>\n",
       "      <td>1.002821</td>\n",
       "      <td>-2.069034</td>\n",
       "      <td>-0.597284</td>\n",
       "      <td>-0.062898</td>\n",
       "      <td>0.629175</td>\n",
       "      <td>3.485073</td>\n",
       "    </tr>\n",
       "    <tr>\n",
       "      <th>color_intensity</th>\n",
       "      <td>178.0</td>\n",
       "      <td>-3.442939e-16</td>\n",
       "      <td>1.002821</td>\n",
       "      <td>-1.634288</td>\n",
       "      <td>-0.795103</td>\n",
       "      <td>-0.159225</td>\n",
       "      <td>0.493956</td>\n",
       "      <td>3.435432</td>\n",
       "    </tr>\n",
       "    <tr>\n",
       "      <th>hue</th>\n",
       "      <td>178.0</td>\n",
       "      <td>1.636643e-15</td>\n",
       "      <td>1.002821</td>\n",
       "      <td>-2.094732</td>\n",
       "      <td>-0.767562</td>\n",
       "      <td>0.033127</td>\n",
       "      <td>0.713164</td>\n",
       "      <td>3.301694</td>\n",
       "    </tr>\n",
       "    <tr>\n",
       "      <th>od280/od315_of_diluted_wines</th>\n",
       "      <td>178.0</td>\n",
       "      <td>2.235415e-15</td>\n",
       "      <td>1.002821</td>\n",
       "      <td>-1.895054</td>\n",
       "      <td>-0.952248</td>\n",
       "      <td>0.237735</td>\n",
       "      <td>0.788587</td>\n",
       "      <td>1.960915</td>\n",
       "    </tr>\n",
       "    <tr>\n",
       "      <th>proline</th>\n",
       "      <td>178.0</td>\n",
       "      <td>-1.197544e-16</td>\n",
       "      <td>1.002821</td>\n",
       "      <td>-1.493188</td>\n",
       "      <td>-0.784638</td>\n",
       "      <td>-0.233720</td>\n",
       "      <td>0.758249</td>\n",
       "      <td>2.971473</td>\n",
       "    </tr>\n",
       "  </tbody>\n",
       "</table>\n",
       "</div>"
      ],
      "text/plain": [
       "                              count          mean       std       min       25%       50%       75%       max\n",
       "alcohol                       178.0  7.943708e-15  1.002821 -2.434235 -0.788245  0.061000  0.836129  2.259772\n",
       "malic_acid                    178.0  3.592632e-16  1.002821 -1.432983 -0.658749 -0.423112  0.669793  3.109192\n",
       "ash                           178.0 -4.066660e-15  1.002821 -3.679162 -0.572122 -0.023821  0.698109  3.156325\n",
       "alcalinity_of_ash             178.0 -7.983626e-17  1.002821 -2.671018 -0.689137  0.001518  0.602088  3.154511\n",
       "magnesium                     178.0 -7.983626e-17  1.002821 -2.088255 -0.824415 -0.122282  0.509638  4.371372\n",
       "total_phenols                 178.0 -3.991813e-17  1.002821 -2.107246 -0.885468  0.095960  0.808997  2.539515\n",
       "flavanoids                    178.0  9.979533e-16  1.002821 -1.695971 -0.827539  0.106150  0.849085  3.062832\n",
       "nonflavanoid_phenols          178.0 -5.588538e-16  1.002821 -1.868234 -0.740141 -0.176095  0.609541  2.402403\n",
       "proanthocyanins               178.0 -1.656602e-15  1.002821 -2.069034 -0.597284 -0.062898  0.629175  3.485073\n",
       "color_intensity               178.0 -3.442939e-16  1.002821 -1.634288 -0.795103 -0.159225  0.493956  3.435432\n",
       "hue                           178.0  1.636643e-15  1.002821 -2.094732 -0.767562  0.033127  0.713164  3.301694\n",
       "od280/od315_of_diluted_wines  178.0  2.235415e-15  1.002821 -1.895054 -0.952248  0.237735  0.788587  1.960915\n",
       "proline                       178.0 -1.197544e-16  1.002821 -1.493188 -0.784638 -0.233720  0.758249  2.971473"
      ]
     },
     "execution_count": 38,
     "metadata": {},
     "output_type": "execute_result"
    }
   ],
   "source": [
    "processesed_features.describe().T"
   ]
  },
  {
   "cell_type": "code",
   "execution_count": 39,
   "id": "1eefe067",
   "metadata": {},
   "outputs": [
    {
     "data": {
      "text/plain": [
       "(178, 3)"
      ]
     },
     "execution_count": 39,
     "metadata": {},
     "output_type": "execute_result"
    }
   ],
   "source": [
    "target = to_categorical(target, 3)\n",
    "\n",
    "target.shape"
   ]
  },
  {
   "cell_type": "code",
   "execution_count": 40,
   "id": "1be7a2e7",
   "metadata": {},
   "outputs": [],
   "source": [
    "X_train, X_test, y_train, y_test = train_test_split(processesed_features,\n",
    "                                                   target, \n",
    "                                                   test_size=0.2,\n",
    "                                                   random_state=42)"
   ]
  },
  {
   "cell_type": "code",
   "execution_count": 41,
   "id": "1b85d32b",
   "metadata": {},
   "outputs": [
    {
     "data": {
      "text/plain": [
       "((142, 13), (142, 3))"
      ]
     },
     "execution_count": 41,
     "metadata": {},
     "output_type": "execute_result"
    }
   ],
   "source": [
    "X_train.shape, y_train.shape"
   ]
  },
  {
   "cell_type": "code",
   "execution_count": 42,
   "id": "5f8a6313",
   "metadata": {},
   "outputs": [
    {
     "data": {
      "text/plain": [
       "((36, 13), (36, 3))"
      ]
     },
     "execution_count": 42,
     "metadata": {},
     "output_type": "execute_result"
    }
   ],
   "source": [
    "X_test.shape, y_test.shape"
   ]
  },
  {
   "cell_type": "code",
   "execution_count": 44,
   "id": "44f3d8d4",
   "metadata": {},
   "outputs": [],
   "source": [
    "class WineClassificationModel(Model):\n",
    "    def __init__(self, input_shape):\n",
    "        super(WineClassificationModel, self).__init__()\n",
    "        \n",
    "        self.d1 = layers.Dense(units=128, activation=\"relu\", input_shape=[input_shape])\n",
    "        self.d2 = layers.Dense(units=64, activation=\"relu\")\n",
    "        \n",
    "        self.d3 = layers.Dense(units=3, activation=\"softmax\")\n",
    "        \n",
    "    def call(self, x):\n",
    "        x = self.d1(x)\n",
    "        x = self.d2(x)\n",
    "        x = self.d3(x)\n",
    "        \n",
    "        return x"
   ]
  },
  {
   "cell_type": "code",
   "execution_count": 47,
   "id": "518b2432",
   "metadata": {},
   "outputs": [],
   "source": [
    "model = WineClassificationModel(X_train.shape[1])\n",
    "\n",
    "model.compile(optimizer=keras.optimizers.SGD(learning_rate=0.001),\n",
    "             metrics=[\"accuracy\"],\n",
    "             loss=keras.losses.CategoricalCrossentropy())"
   ]
  },
  {
   "cell_type": "code",
   "execution_count": 89,
   "id": "8403ff3b",
   "metadata": {},
   "outputs": [
    {
     "name": "stdout",
     "output_type": "stream",
     "text": [
      "Epoch 1/20\n",
      "2/2 [==============================] - 0s 164ms/step - loss: 0.0862 - accuracy: 0.9912 - val_loss: 0.0927 - val_accuracy: 1.0000\n",
      "Epoch 2/20\n",
      "2/2 [==============================] - 0s 138ms/step - loss: 0.0861 - accuracy: 0.9912 - val_loss: 0.0927 - val_accuracy: 1.0000\n",
      "Epoch 3/20\n",
      "2/2 [==============================] - 0s 148ms/step - loss: 0.0861 - accuracy: 0.9912 - val_loss: 0.0926 - val_accuracy: 1.0000\n",
      "Epoch 4/20\n",
      "2/2 [==============================] - 0s 145ms/step - loss: 0.0860 - accuracy: 0.9912 - val_loss: 0.0926 - val_accuracy: 1.0000\n",
      "Epoch 5/20\n",
      "2/2 [==============================] - 0s 155ms/step - loss: 0.0860 - accuracy: 0.9912 - val_loss: 0.0925 - val_accuracy: 1.0000\n",
      "Epoch 6/20\n",
      "2/2 [==============================] - 0s 171ms/step - loss: 0.0859 - accuracy: 0.9912 - val_loss: 0.0925 - val_accuracy: 1.0000\n",
      "Epoch 7/20\n",
      "2/2 [==============================] - 0s 183ms/step - loss: 0.0859 - accuracy: 0.9912 - val_loss: 0.0924 - val_accuracy: 1.0000\n",
      "Epoch 8/20\n",
      "2/2 [==============================] - 0s 154ms/step - loss: 0.0858 - accuracy: 0.9912 - val_loss: 0.0924 - val_accuracy: 1.0000\n",
      "Epoch 9/20\n",
      "2/2 [==============================] - 0s 131ms/step - loss: 0.0858 - accuracy: 0.9912 - val_loss: 0.0923 - val_accuracy: 1.0000\n",
      "Epoch 10/20\n",
      "2/2 [==============================] - 0s 168ms/step - loss: 0.0857 - accuracy: 0.9912 - val_loss: 0.0923 - val_accuracy: 1.0000\n",
      "Epoch 11/20\n",
      "2/2 [==============================] - 0s 161ms/step - loss: 0.0857 - accuracy: 0.9912 - val_loss: 0.0922 - val_accuracy: 1.0000\n",
      "Epoch 12/20\n",
      "2/2 [==============================] - 0s 169ms/step - loss: 0.0856 - accuracy: 0.9912 - val_loss: 0.0922 - val_accuracy: 1.0000\n",
      "Epoch 13/20\n",
      "2/2 [==============================] - 0s 167ms/step - loss: 0.0856 - accuracy: 0.9912 - val_loss: 0.0921 - val_accuracy: 1.0000\n",
      "Epoch 14/20\n",
      "2/2 [==============================] - 0s 148ms/step - loss: 0.0855 - accuracy: 0.9912 - val_loss: 0.0921 - val_accuracy: 1.0000\n",
      "Epoch 15/20\n",
      "2/2 [==============================] - 0s 156ms/step - loss: 0.0854 - accuracy: 0.9912 - val_loss: 0.0920 - val_accuracy: 1.0000\n",
      "Epoch 16/20\n",
      "2/2 [==============================] - 0s 242ms/step - loss: 0.0854 - accuracy: 0.9912 - val_loss: 0.0920 - val_accuracy: 1.0000\n",
      "Epoch 17/20\n",
      "2/2 [==============================] - 0s 177ms/step - loss: 0.0853 - accuracy: 0.9912 - val_loss: 0.0919 - val_accuracy: 1.0000\n",
      "Epoch 18/20\n",
      "2/2 [==============================] - 0s 155ms/step - loss: 0.0853 - accuracy: 0.9912 - val_loss: 0.0919 - val_accuracy: 1.0000\n",
      "Epoch 19/20\n",
      "2/2 [==============================] - 0s 190ms/step - loss: 0.0852 - accuracy: 0.9912 - val_loss: 0.0918 - val_accuracy: 1.0000\n",
      "Epoch 20/20\n",
      "2/2 [==============================] - 0s 150ms/step - loss: 0.0852 - accuracy: 0.9912 - val_loss: 0.0918 - val_accuracy: 1.0000\n"
     ]
    }
   ],
   "source": [
    "history = model.fit(X_train.values, y_train,\n",
    "                    validation_split=0.2,\n",
    "                   epochs=20,\n",
    "                   batch_size=64)"
   ]
  },
  {
   "cell_type": "code",
   "execution_count": 90,
   "id": "5f02bd6a",
   "metadata": {},
   "outputs": [
    {
     "data": {
      "text/plain": [
       "dict_keys(['loss', 'accuracy', 'val_loss', 'val_accuracy'])"
      ]
     },
     "execution_count": 90,
     "metadata": {},
     "output_type": "execute_result"
    }
   ],
   "source": [
    "history.history.keys()"
   ]
  },
  {
   "cell_type": "code",
   "execution_count": 91,
   "id": "13993342",
   "metadata": {},
   "outputs": [
    {
     "data": {
      "image/png": "[encoded data removed]",
      "text/plain": [
       "<Figure size 2000x1000 with 3 Axes>"
      ]
     },
     "metadata": {},
     "output_type": "display_data"
    }
   ],
   "source": [
    "training_accuracy = history.history[\"accuracy\"]\n",
    "training_loss = history.history[\"loss\"]\n",
    "\n",
    "validation_accuracy = history.history[\"val_accuracy\"]\n",
    "validation_loss = history.history[\"val_loss\"]\n",
    "\n",
    "epochs = range(20)\n",
    "\n",
    "plt.figure(figsize=[20, 10])\n",
    "\n",
    "plt.subplot(1, 3, 1)\n",
    "\n",
    "plt.plot(epochs, training_accuracy, label=\"Training Accuracy\")\n",
    "plt.plot(epochs, training_loss, label=\"Training Loss\")\n",
    "\n",
    "plt.title(\"Training\")\n",
    "plt.legend()\n",
    "\n",
    "plt.subplot(1, 3, 2)\n",
    "\n",
    "plt.plot(training_accuracy, validation_accuracy, label=\"Accuracy vs Validation\", color=\"green\")\n",
    "plt.xlabel(\"Training\")\n",
    "plt.ylabel(\"Validation\")\n",
    "plt.title(\"Training and Validation Accuracy\")\n",
    "plt.legend()\n",
    "\n",
    "plt.subplot(1, 3, 3)\n",
    "\n",
    "plt.plot(epochs, validation_accuracy, label=\"validation Accuracy\")\n",
    "plt.plot(epochs, validation_loss, label=\"validation Loss\")\n",
    "\n",
    "plt.title(\"Validation\")\n",
    "plt.legend()\n",
    "\n",
    "plt.show()"
   ]
  },
  {
   "cell_type": "code",
   "execution_count": 93,
   "id": "8722d586",
   "metadata": {},
   "outputs": [
    {
     "name": "stdout",
     "output_type": "stream",
     "text": [
      "2/2 [==============================] - 0s 5ms/step - loss: 0.0779 - accuracy: 0.9722\n"
     ]
    },
    {
     "data": {
      "text/plain": [
       "loss        0.077929\n",
       "accuracy    0.972222\n",
       "dtype: float64"
      ]
     },
     "execution_count": 93,
     "metadata": {},
     "output_type": "execute_result"
    }
   ],
   "source": [
    "score = model.evaluate(X_test, y_test)\n",
    "\n",
    "score_df = pd.Series(score, index=model.metrics_names)\n",
    "\n",
    "score_df"
   ]
  },
  {
   "cell_type": "code",
   "execution_count": 94,
   "id": "bf20ed7c",
   "metadata": {},
   "outputs": [
    {
     "name": "stdout",
     "output_type": "stream",
     "text": [
      "2/2 [==============================] - 0s 0s/step\n"
     ]
    },
    {
     "data": {
      "text/plain": [
       "array([[0.9614294 , 0.02614465, 0.01242594],\n",
       "       [0.9261437 , 0.03684665, 0.03700966],\n",
       "       [0.02356023, 0.06214403, 0.9142958 ],\n",
       "       [0.96546704, 0.02560865, 0.00892423],\n",
       "       [0.00680141, 0.98368776, 0.00951091],\n",
       "       [0.98527294, 0.00786226, 0.00686482],\n",
       "       [0.00766743, 0.9832985 , 0.00903404],\n",
       "       [0.00870563, 0.01291081, 0.9783836 ],\n",
       "       [0.06146119, 0.92800885, 0.01052997],\n",
       "       [0.03295567, 0.06583533, 0.90120894]], dtype=float32)"
      ]
     },
     "execution_count": 94,
     "metadata": {},
     "output_type": "execute_result"
    }
   ],
   "source": [
    "y_pred = model.predict(X_test)\n",
    "\n",
    "y_pred[:10]"
   ]
  },
  {
   "cell_type": "code",
   "execution_count": 95,
   "id": "866db925",
   "metadata": {},
   "outputs": [
    {
     "data": {
      "text/plain": [
       "array([[1., 0., 0.],\n",
       "       [1., 0., 0.],\n",
       "       [0., 0., 1.],\n",
       "       [1., 0., 0.],\n",
       "       [0., 1., 0.],\n",
       "       [1., 0., 0.],\n",
       "       [0., 1., 0.],\n",
       "       [0., 0., 1.],\n",
       "       [0., 1., 0.],\n",
       "       [0., 0., 1.]], dtype=float32)"
      ]
     },
     "execution_count": 95,
     "metadata": {},
     "output_type": "execute_result"
    }
   ],
   "source": [
    "y_pred = np.where(y_pred >= 0.5, 1, y_pred)\n",
    "\n",
    "y_pred = np.where(y_pred < 0.5, 0, y_pred)\n",
    "\n",
    "y_pred[:10]"
   ]
  },
  {
   "cell_type": "code",
   "execution_count": 96,
   "id": "fd8ed4d8",
   "metadata": {},
   "outputs": [
    {
     "data": {
      "text/plain": [
       "0.9722222222222222"
      ]
     },
     "execution_count": 96,
     "metadata": {},
     "output_type": "execute_result"
    }
   ],
   "source": [
    "accuracy_score(y_test, y_pred)"
   ]
  },
  {
   "cell_type": "code",
   "execution_count": null,
   "id": "b1e9919f",
   "metadata": {},
   "outputs": [],
   "source": []
  }
 ],
 "metadata": {
  "kernelspec": {
   "display_name": "Python 3 (ipykernel)",
   "language": "python",
   "name": "python3"
  },
  "language_info": {
   "codemirror_mode": {
    "name": "ipython",
    "version": 3
   },
   "file_extension": ".py",
   "mimetype": "text/x-python",
   "name": "python",
   "nbconvert_exporter": "python",
   "pygments_lexer": "ipython3",
   "version": "3.11.3"
  }
 },
 "nbformat": 4,
 "nbformat_minor": 5
}
