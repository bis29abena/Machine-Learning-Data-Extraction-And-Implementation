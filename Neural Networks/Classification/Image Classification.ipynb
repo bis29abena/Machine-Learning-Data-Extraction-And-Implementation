{
 "cells": [
  {
   "cell_type": "code",
   "execution_count": 1,
   "id": "6f356017",
   "metadata": {},
   "outputs": [],
   "source": [
    "import random\n",
    "import cv2\n",
    "import numpy as np\n",
    "import pandas as pd\n",
    "import matplotlib.pyplot as plt\n",
    "\n",
    "import tensorflow as tf\n",
    "\n",
    "from tensorflow import keras\n",
    "from tensorflow.keras import layers\n",
    "from tensorflow.keras.preprocessing.image import ImageDataGenerator"
   ]
  },
  {
   "cell_type": "code",
   "execution_count": 2,
   "id": "3e20c4ca",
   "metadata": {},
   "outputs": [],
   "source": [
    "cifar_10 = tf.keras.datasets.cifar10\n",
    "\n",
    "(train_images, train_labels), (test_images, test_labels) = cifar_10.load_data()"
   ]
  },
  {
   "cell_type": "code",
   "execution_count": 3,
   "id": "4d1d2cff",
   "metadata": {},
   "outputs": [
    {
     "data": {
      "text/plain": [
       "(50000, 32, 32, 3)"
      ]
     },
     "execution_count": 3,
     "metadata": {},
     "output_type": "execute_result"
    }
   ],
   "source": [
    "train_images.shape"
   ]
  },
  {
   "cell_type": "code",
   "execution_count": 4,
   "id": "311c973c",
   "metadata": {},
   "outputs": [
    {
     "data": {
      "text/plain": [
       "(10000, 32, 32, 3)"
      ]
     },
     "execution_count": 4,
     "metadata": {},
     "output_type": "execute_result"
    }
   ],
   "source": [
    "test_images.shape"
   ]
  },
  {
   "cell_type": "code",
   "execution_count": 5,
   "id": "bcff4b34",
   "metadata": {},
   "outputs": [
    {
     "data": {
      "text/plain": [
       "array([[ 59,  62,  63],\n",
       "       [ 43,  46,  45],\n",
       "       [ 50,  48,  43],\n",
       "       [ 68,  54,  42],\n",
       "       [ 98,  73,  52],\n",
       "       [119,  91,  63],\n",
       "       [139, 107,  75],\n",
       "       [145, 110,  80],\n",
       "       [149, 117,  89],\n",
       "       [149, 120,  93],\n",
       "       [131, 103,  77],\n",
       "       [125,  99,  76],\n",
       "       [142, 115,  91],\n",
       "       [144, 112,  86],\n",
       "       [137, 105,  79],\n",
       "       [129,  97,  71],\n",
       "       [137, 106,  79],\n",
       "       [134, 106,  76],\n",
       "       [124,  97,  64],\n",
       "       [139, 113,  78],\n",
       "       [139, 112,  75],\n",
       "       [133, 105,  69],\n",
       "       [136, 105,  74],\n",
       "       [139, 108,  77],\n",
       "       [152, 120,  89],\n",
       "       [163, 131, 100],\n",
       "       [168, 136, 108],\n",
       "       [159, 129, 102],\n",
       "       [158, 130, 104],\n",
       "       [158, 132, 108],\n",
       "       [152, 125, 102],\n",
       "       [148, 124, 103]], dtype=uint8)"
      ]
     },
     "execution_count": 5,
     "metadata": {},
     "output_type": "execute_result"
    }
   ],
   "source": [
    "train_images[0][0]"
   ]
  },
  {
   "cell_type": "code",
   "execution_count": 6,
   "id": "239bc158",
   "metadata": {},
   "outputs": [
    {
     "data": {
      "text/plain": [
       "array([[6],\n",
       "       [9],\n",
       "       [9],\n",
       "       [4],\n",
       "       [1],\n",
       "       [1],\n",
       "       [2],\n",
       "       [7],\n",
       "       [8],\n",
       "       [3],\n",
       "       [4],\n",
       "       [7],\n",
       "       [7],\n",
       "       [2],\n",
       "       [9],\n",
       "       [9],\n",
       "       [9],\n",
       "       [3],\n",
       "       [2],\n",
       "       [6]], dtype=uint8)"
      ]
     },
     "execution_count": 6,
     "metadata": {},
     "output_type": "execute_result"
    }
   ],
   "source": [
    "train_labels[: 20]"
   ]
  },
  {
   "cell_type": "code",
   "execution_count": 7,
   "id": "d648f94a",
   "metadata": {},
   "outputs": [],
   "source": [
    "lookup = [\n",
    "    'Airplane',\n",
    "    'Automobile',\n",
    "    'Bird',\n",
    "    'Cat',\n",
    "    'Deer',\n",
    "    'Dog',\n",
    "    'Frog',\n",
    "    'Horse',\n",
    "    'Ship',\n",
    "    'Truck'\n",
    "]"
   ]
  },
  {
   "cell_type": "code",
   "execution_count": 8,
   "id": "e96f57ca",
   "metadata": {},
   "outputs": [],
   "source": [
    "def show_image(images, labels, n_images):\n",
    "    random_int = random.randint(0, labels.shape[0] - n_images)\n",
    "    \n",
    "    imgs, labels = images[random_int : random_int + n_images], labels[random_int : random_int + n_images]\n",
    "    \n",
    "    \n",
    "    _, figs = plt.subplots(1, n_images, figsize = (n_images * 3, 3))\n",
    "    \n",
    "    for fig, img, label in zip(figs, imgs, labels):\n",
    "        \n",
    "        fig.imshow(img)\n",
    "        \n",
    "        ax = fig.axes\n",
    "        \n",
    "        ax.set_title(lookup[int(label)])\n",
    "        \n",
    "        ax.title.set_fontsize(20)\n",
    "        \n",
    "        ax.get_xaxis().set_visible(False)        \n",
    "        ax.get_yaxis().set_visible(False)"
   ]
  },
  {
   "cell_type": "code",
   "execution_count": 9,
   "id": "da78d676",
   "metadata": {},
   "outputs": [
    {
     "data": {
      "image/png": "[encoded data removed]",
      "text/plain": [
       "<Figure size 1500x300 with 5 Axes>"
      ]
     },
     "metadata": {},
     "output_type": "display_data"
    }
   ],
   "source": [
    "show_image(train_images, train_labels, 5)"
   ]
  },
  {
   "cell_type": "code",
   "execution_count": 10,
   "id": "5d222019",
   "metadata": {},
   "outputs": [],
   "source": [
    "import os\n",
    "\n",
    "train_path = \"./cifar_10/train/\"\n",
    "test_path = \"./cifar_10/test/\""
   ]
  },
  {
   "cell_type": "code",
   "execution_count": 11,
   "id": "dd4a2f05",
   "metadata": {},
   "outputs": [],
   "source": [
    "i = 0\n",
    "\n",
    "for image, label in zip(test_images, test_labels):\n",
    "    \n",
    "    path = test_path + str(lookup[int(label)])\n",
    "    \n",
    "    cv2.imwrite(f\"{path}/{i}.jpeg\", image)\n",
    "    \n",
    "    i += 1\n",
    "    "
   ]
  },
  {
   "cell_type": "code",
   "execution_count": null,
   "id": "99edc3f0",
   "metadata": {},
   "outputs": [],
   "source": []
  }
 ],
 "metadata": {
  "kernelspec": {
   "display_name": "Python 3 (ipykernel)",
   "language": "python",
   "name": "python3"
  },
  "language_info": {
   "codemirror_mode": {
    "name": "ipython",
    "version": 3
   },
   "file_extension": ".py",
   "mimetype": "text/x-python",
   "name": "python",
   "nbconvert_exporter": "python",
   "pygments_lexer": "ipython3",
   "version": "3.11.3"
  }
 },
 "nbformat": 4,
 "nbformat_minor": 5
}
