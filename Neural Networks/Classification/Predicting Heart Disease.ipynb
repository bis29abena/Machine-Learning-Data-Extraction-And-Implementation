{
 "cells": [
  {
   "cell_type": "code",
   "execution_count": 76,
   "id": "0365f0c0",
   "metadata": {},
   "outputs": [],
   "source": [
    "import pandas as pd\n",
    "import numpy as np\n",
    "import matplotlib.pyplot as plt\n",
    "import tensorflow as tf\n",
    "\n",
    "from sklearn.preprocessing import StandardScaler\n",
    "from sklearn.metrics import accuracy_score, recall_score, precision_score\n",
    "from sklearn.model_selection import train_test_split\n",
    "from tensorflow.keras import layers\n",
    "from tensorflow import keras"
   ]
  },
  {
   "cell_type": "code",
   "execution_count": 80,
   "id": "077b7305",
   "metadata": {},
   "outputs": [
    {
     "data": {
      "text/html": [
       "<div>\n",
       "<style scoped>\n",
       "    .dataframe tbody tr th:only-of-type {\n",
       "        vertical-align: middle;\n",
       "    }\n",
       "\n",
       "    .dataframe tbody tr th {\n",
       "        vertical-align: top;\n",
       "    }\n",
       "\n",
       "    .dataframe thead th {\n",
       "        text-align: right;\n",
       "    }\n",
       "</style>\n",
       "<table border=\"1\" class=\"dataframe\">\n",
       "  <thead>\n",
       "    <tr style=\"text-align: right;\">\n",
       "      <th></th>\n",
       "      <th>age</th>\n",
       "      <th>sex</th>\n",
       "      <th>cp</th>\n",
       "      <th>trestbps</th>\n",
       "      <th>chol</th>\n",
       "      <th>fbs</th>\n",
       "      <th>restecg</th>\n",
       "      <th>thalach</th>\n",
       "      <th>exang</th>\n",
       "      <th>oldpeak</th>\n",
       "      <th>slope</th>\n",
       "      <th>ca</th>\n",
       "      <th>thal</th>\n",
       "      <th>num</th>\n",
       "    </tr>\n",
       "  </thead>\n",
       "  <tbody>\n",
       "    <tr>\n",
       "      <th>0</th>\n",
       "      <td>63.0</td>\n",
       "      <td>1.0</td>\n",
       "      <td>1.0</td>\n",
       "      <td>145.0</td>\n",
       "      <td>233.0</td>\n",
       "      <td>1.0</td>\n",
       "      <td>2.0</td>\n",
       "      <td>150.0</td>\n",
       "      <td>0.0</td>\n",
       "      <td>2.3</td>\n",
       "      <td>3.0</td>\n",
       "      <td>0.0</td>\n",
       "      <td>6.0</td>\n",
       "      <td>0</td>\n",
       "    </tr>\n",
       "    <tr>\n",
       "      <th>1</th>\n",
       "      <td>67.0</td>\n",
       "      <td>1.0</td>\n",
       "      <td>4.0</td>\n",
       "      <td>160.0</td>\n",
       "      <td>286.0</td>\n",
       "      <td>0.0</td>\n",
       "      <td>2.0</td>\n",
       "      <td>108.0</td>\n",
       "      <td>1.0</td>\n",
       "      <td>1.5</td>\n",
       "      <td>2.0</td>\n",
       "      <td>3.0</td>\n",
       "      <td>3.0</td>\n",
       "      <td>2</td>\n",
       "    </tr>\n",
       "    <tr>\n",
       "      <th>2</th>\n",
       "      <td>67.0</td>\n",
       "      <td>1.0</td>\n",
       "      <td>4.0</td>\n",
       "      <td>120.0</td>\n",
       "      <td>229.0</td>\n",
       "      <td>0.0</td>\n",
       "      <td>2.0</td>\n",
       "      <td>129.0</td>\n",
       "      <td>1.0</td>\n",
       "      <td>2.6</td>\n",
       "      <td>2.0</td>\n",
       "      <td>2.0</td>\n",
       "      <td>7.0</td>\n",
       "      <td>1</td>\n",
       "    </tr>\n",
       "    <tr>\n",
       "      <th>3</th>\n",
       "      <td>37.0</td>\n",
       "      <td>1.0</td>\n",
       "      <td>3.0</td>\n",
       "      <td>130.0</td>\n",
       "      <td>250.0</td>\n",
       "      <td>0.0</td>\n",
       "      <td>0.0</td>\n",
       "      <td>187.0</td>\n",
       "      <td>0.0</td>\n",
       "      <td>3.5</td>\n",
       "      <td>3.0</td>\n",
       "      <td>0.0</td>\n",
       "      <td>3.0</td>\n",
       "      <td>0</td>\n",
       "    </tr>\n",
       "    <tr>\n",
       "      <th>4</th>\n",
       "      <td>41.0</td>\n",
       "      <td>0.0</td>\n",
       "      <td>2.0</td>\n",
       "      <td>130.0</td>\n",
       "      <td>204.0</td>\n",
       "      <td>0.0</td>\n",
       "      <td>2.0</td>\n",
       "      <td>172.0</td>\n",
       "      <td>0.0</td>\n",
       "      <td>1.4</td>\n",
       "      <td>1.0</td>\n",
       "      <td>0.0</td>\n",
       "      <td>3.0</td>\n",
       "      <td>0</td>\n",
       "    </tr>\n",
       "  </tbody>\n",
       "</table>\n",
       "</div>"
      ],
      "text/plain": [
       "    age  sex   cp  trestbps   chol  fbs  restecg  thalach  exang  oldpeak  slope   ca thal  num\n",
       "0  63.0  1.0  1.0     145.0  233.0  1.0      2.0    150.0    0.0      2.3    3.0  0.0  6.0    0\n",
       "1  67.0  1.0  4.0     160.0  286.0  0.0      2.0    108.0    1.0      1.5    2.0  3.0  3.0    2\n",
       "2  67.0  1.0  4.0     120.0  229.0  0.0      2.0    129.0    1.0      2.6    2.0  2.0  7.0    1\n",
       "3  37.0  1.0  3.0     130.0  250.0  0.0      0.0    187.0    0.0      3.5    3.0  0.0  3.0    0\n",
       "4  41.0  0.0  2.0     130.0  204.0  0.0      2.0    172.0    0.0      1.4    1.0  0.0  3.0    0"
      ]
     },
     "execution_count": 80,
     "metadata": {},
     "output_type": "execute_result"
    }
   ],
   "source": [
    "heart_data = pd.read_csv(\"./data/processed.cleveland.data\", names=[\"age\", \"sex\", \"cp\", \"trestbps\", \"chol\",\n",
    "                                                        \"fbs\", \"restecg\", \"thalach\", \"exang\", \"oldpeak\",\n",
    "                                                        \"slope\", \"ca\", \"thal\", \"num\"])\n",
    "\n",
    "heart_data.head()"
   ]
  },
  {
   "cell_type": "code",
   "execution_count": 81,
   "id": "1e22b3eb",
   "metadata": {},
   "outputs": [
    {
     "name": "stdout",
     "output_type": "stream",
     "text": [
      "Total number of records in the Dataframe: 303\n",
      "Number of missing in age: 0\n",
      "Number of missing in sex: 0\n",
      "Number of missing in cp: 0\n",
      "Number of missing in trestbps: 0\n",
      "Number of missing in chol: 0\n",
      "Number of missing in fbs: 0\n",
      "Number of missing in restecg: 0\n",
      "Number of missing in thalach: 0\n",
      "Number of missing in exang: 0\n",
      "Number of missing in oldpeak: 0\n",
      "Number of missing in slope: 0\n",
      "Number of missing in ca: 4\n",
      "Number of missing in thal: 2\n",
      "Number of missing in num: 0\n"
     ]
    }
   ],
   "source": [
    "total_records = len(heart_data)\n",
    "\n",
    "print(f\"Total number of records in the Dataframe: {total_records}\")\n",
    "for col in heart_data.columns:\n",
    "    records = len(heart_data.loc[heart_data[col] == \"?\"])\n",
    "    print(f\"Number of missing in {col}: {records}\")"
   ]
  },
  {
   "cell_type": "code",
   "execution_count": 84,
   "id": "8bc1a7e9",
   "metadata": {},
   "outputs": [
    {
     "data": {
      "text/plain": [
       "age         0\n",
       "sex         0\n",
       "cp          0\n",
       "trestbps    0\n",
       "chol        0\n",
       "fbs         0\n",
       "restecg     0\n",
       "thalach     0\n",
       "exang       0\n",
       "oldpeak     0\n",
       "slope       0\n",
       "ca          4\n",
       "thal        2\n",
       "num         0\n",
       "dtype: int64"
      ]
     },
     "execution_count": 84,
     "metadata": {},
     "output_type": "execute_result"
    }
   ],
   "source": [
    "heart_data = heart_data.replace(\"?\", np.nan)\n",
    "\n",
    "heart_data.isna().sum()"
   ]
  },
  {
   "cell_type": "code",
   "execution_count": 85,
   "id": "6efa6638",
   "metadata": {},
   "outputs": [
    {
     "data": {
      "text/plain": [
       "age         0\n",
       "sex         0\n",
       "cp          0\n",
       "trestbps    0\n",
       "chol        0\n",
       "fbs         0\n",
       "restecg     0\n",
       "thalach     0\n",
       "exang       0\n",
       "oldpeak     0\n",
       "slope       0\n",
       "ca          0\n",
       "thal        0\n",
       "num         0\n",
       "dtype: int64"
      ]
     },
     "execution_count": 85,
     "metadata": {},
     "output_type": "execute_result"
    }
   ],
   "source": [
    "heart_data = heart_data.dropna()\n",
    "\n",
    "heart_data.isna().sum()"
   ]
  },
  {
   "cell_type": "code",
   "execution_count": 86,
   "id": "1204d979",
   "metadata": {},
   "outputs": [],
   "source": [
    "features = heart_data.drop(\"num\", axis=1)\n",
    "\n",
    "target = heart_data[[\"num\"]]"
   ]
  },
  {
   "cell_type": "code",
   "execution_count": 95,
   "id": "2871484f",
   "metadata": {},
   "outputs": [
    {
     "data": {
      "text/plain": [
       "array([0, 2, 1, 3, 4], dtype=int64)"
      ]
     },
     "execution_count": 95,
     "metadata": {},
     "output_type": "execute_result"
    }
   ],
   "source": [
    "target[\"num\"].unique()"
   ]
  },
  {
   "cell_type": "code",
   "execution_count": 176,
   "id": "07e33b73",
   "metadata": {},
   "outputs": [],
   "source": [
    "from sklearn.preprocessing import LabelBinarizer\n",
    "\n",
    "lb = LabelBinarizer()\n",
    "\n",
    "target = lb.fit_transform(target)"
   ]
  },
  {
   "cell_type": "code",
   "execution_count": 177,
   "id": "2091279b",
   "metadata": {},
   "outputs": [
    {
     "data": {
      "text/html": [
       "<div>\n",
       "<style scoped>\n",
       "    .dataframe tbody tr th:only-of-type {\n",
       "        vertical-align: middle;\n",
       "    }\n",
       "\n",
       "    .dataframe tbody tr th {\n",
       "        vertical-align: top;\n",
       "    }\n",
       "\n",
       "    .dataframe thead th {\n",
       "        text-align: right;\n",
       "    }\n",
       "</style>\n",
       "<table border=\"1\" class=\"dataframe\">\n",
       "  <thead>\n",
       "    <tr style=\"text-align: right;\">\n",
       "      <th></th>\n",
       "      <th>sex</th>\n",
       "      <th>cp</th>\n",
       "      <th>fbs</th>\n",
       "      <th>restecg</th>\n",
       "      <th>exang</th>\n",
       "      <th>slope</th>\n",
       "      <th>thal</th>\n",
       "    </tr>\n",
       "  </thead>\n",
       "  <tbody>\n",
       "    <tr>\n",
       "      <th>0</th>\n",
       "      <td>1.0</td>\n",
       "      <td>1.0</td>\n",
       "      <td>1.0</td>\n",
       "      <td>2.0</td>\n",
       "      <td>0.0</td>\n",
       "      <td>3.0</td>\n",
       "      <td>6.0</td>\n",
       "    </tr>\n",
       "    <tr>\n",
       "      <th>1</th>\n",
       "      <td>1.0</td>\n",
       "      <td>4.0</td>\n",
       "      <td>0.0</td>\n",
       "      <td>2.0</td>\n",
       "      <td>1.0</td>\n",
       "      <td>2.0</td>\n",
       "      <td>3.0</td>\n",
       "    </tr>\n",
       "    <tr>\n",
       "      <th>2</th>\n",
       "      <td>1.0</td>\n",
       "      <td>4.0</td>\n",
       "      <td>0.0</td>\n",
       "      <td>2.0</td>\n",
       "      <td>1.0</td>\n",
       "      <td>2.0</td>\n",
       "      <td>7.0</td>\n",
       "    </tr>\n",
       "    <tr>\n",
       "      <th>3</th>\n",
       "      <td>1.0</td>\n",
       "      <td>3.0</td>\n",
       "      <td>0.0</td>\n",
       "      <td>0.0</td>\n",
       "      <td>0.0</td>\n",
       "      <td>3.0</td>\n",
       "      <td>3.0</td>\n",
       "    </tr>\n",
       "    <tr>\n",
       "      <th>4</th>\n",
       "      <td>0.0</td>\n",
       "      <td>2.0</td>\n",
       "      <td>0.0</td>\n",
       "      <td>2.0</td>\n",
       "      <td>0.0</td>\n",
       "      <td>1.0</td>\n",
       "      <td>3.0</td>\n",
       "    </tr>\n",
       "  </tbody>\n",
       "</table>\n",
       "</div>"
      ],
      "text/plain": [
       "   sex   cp  fbs  restecg  exang  slope thal\n",
       "0  1.0  1.0  1.0      2.0    0.0    3.0  6.0\n",
       "1  1.0  4.0  0.0      2.0    1.0    2.0  3.0\n",
       "2  1.0  4.0  0.0      2.0    1.0    2.0  7.0\n",
       "3  1.0  3.0  0.0      0.0    0.0    3.0  3.0\n",
       "4  0.0  2.0  0.0      2.0    0.0    1.0  3.0"
      ]
     },
     "execution_count": 177,
     "metadata": {},
     "output_type": "execute_result"
    }
   ],
   "source": [
    "categorical_features = heart_data[[\"sex\", \"cp\", \"fbs\", \"restecg\", \"exang\", \"slope\", \"thal\"]].copy()\n",
    "\n",
    "numerical_features = heart_data[[\"age\", \"trestbps\", \"chol\", \"thalach\", \"oldpeak\", \"ca\"]].copy()\n",
    "\n",
    "categorical_features.head()"
   ]
  },
  {
   "cell_type": "code",
   "execution_count": 178,
   "id": "a27ffae3",
   "metadata": {},
   "outputs": [],
   "source": [
    "sc = StandardScaler()\n",
    "\n",
    "numerical_features = pd.DataFrame(data=sc.fit_transform(numerical_features),\n",
    "                                 columns=numerical_features.columns,\n",
    "                                 index= numerical_features.index)"
   ]
  },
  {
   "cell_type": "code",
   "execution_count": 179,
   "id": "4d0cec83",
   "metadata": {},
   "outputs": [
    {
     "data": {
      "text/html": [
       "<div>\n",
       "<style scoped>\n",
       "    .dataframe tbody tr th:only-of-type {\n",
       "        vertical-align: middle;\n",
       "    }\n",
       "\n",
       "    .dataframe tbody tr th {\n",
       "        vertical-align: top;\n",
       "    }\n",
       "\n",
       "    .dataframe thead th {\n",
       "        text-align: right;\n",
       "    }\n",
       "</style>\n",
       "<table border=\"1\" class=\"dataframe\">\n",
       "  <thead>\n",
       "    <tr style=\"text-align: right;\">\n",
       "      <th></th>\n",
       "      <th>sex</th>\n",
       "      <th>cp</th>\n",
       "      <th>fbs</th>\n",
       "      <th>restecg</th>\n",
       "      <th>exang</th>\n",
       "      <th>slope</th>\n",
       "      <th>thal</th>\n",
       "      <th>age</th>\n",
       "      <th>trestbps</th>\n",
       "      <th>chol</th>\n",
       "      <th>thalach</th>\n",
       "      <th>oldpeak</th>\n",
       "      <th>ca</th>\n",
       "    </tr>\n",
       "  </thead>\n",
       "  <tbody>\n",
       "    <tr>\n",
       "      <th>0</th>\n",
       "      <td>1.0</td>\n",
       "      <td>1.0</td>\n",
       "      <td>1.0</td>\n",
       "      <td>2.0</td>\n",
       "      <td>0.0</td>\n",
       "      <td>3.0</td>\n",
       "      <td>6.0</td>\n",
       "      <td>0.936181</td>\n",
       "      <td>0.750380</td>\n",
       "      <td>-0.276443</td>\n",
       "      <td>0.017494</td>\n",
       "      <td>1.068965</td>\n",
       "      <td>-0.721976</td>\n",
       "    </tr>\n",
       "    <tr>\n",
       "      <th>1</th>\n",
       "      <td>1.0</td>\n",
       "      <td>4.0</td>\n",
       "      <td>0.0</td>\n",
       "      <td>2.0</td>\n",
       "      <td>1.0</td>\n",
       "      <td>2.0</td>\n",
       "      <td>3.0</td>\n",
       "      <td>1.378929</td>\n",
       "      <td>1.596266</td>\n",
       "      <td>0.744555</td>\n",
       "      <td>-1.816334</td>\n",
       "      <td>0.381773</td>\n",
       "      <td>2.478425</td>\n",
       "    </tr>\n",
       "    <tr>\n",
       "      <th>2</th>\n",
       "      <td>1.0</td>\n",
       "      <td>4.0</td>\n",
       "      <td>0.0</td>\n",
       "      <td>2.0</td>\n",
       "      <td>1.0</td>\n",
       "      <td>2.0</td>\n",
       "      <td>7.0</td>\n",
       "      <td>1.378929</td>\n",
       "      <td>-0.659431</td>\n",
       "      <td>-0.353500</td>\n",
       "      <td>-0.899420</td>\n",
       "      <td>1.326662</td>\n",
       "      <td>1.411625</td>\n",
       "    </tr>\n",
       "    <tr>\n",
       "      <th>3</th>\n",
       "      <td>1.0</td>\n",
       "      <td>3.0</td>\n",
       "      <td>0.0</td>\n",
       "      <td>0.0</td>\n",
       "      <td>0.0</td>\n",
       "      <td>3.0</td>\n",
       "      <td>3.0</td>\n",
       "      <td>-1.941680</td>\n",
       "      <td>-0.095506</td>\n",
       "      <td>0.051047</td>\n",
       "      <td>1.633010</td>\n",
       "      <td>2.099753</td>\n",
       "      <td>-0.721976</td>\n",
       "    </tr>\n",
       "    <tr>\n",
       "      <th>4</th>\n",
       "      <td>0.0</td>\n",
       "      <td>2.0</td>\n",
       "      <td>0.0</td>\n",
       "      <td>2.0</td>\n",
       "      <td>0.0</td>\n",
       "      <td>1.0</td>\n",
       "      <td>3.0</td>\n",
       "      <td>-1.498933</td>\n",
       "      <td>-0.095506</td>\n",
       "      <td>-0.835103</td>\n",
       "      <td>0.978071</td>\n",
       "      <td>0.295874</td>\n",
       "      <td>-0.721976</td>\n",
       "    </tr>\n",
       "  </tbody>\n",
       "</table>\n",
       "</div>"
      ],
      "text/plain": [
       "   sex   cp  fbs  restecg  exang  slope thal       age  trestbps      chol   thalach   oldpeak        ca\n",
       "0  1.0  1.0  1.0      2.0    0.0    3.0  6.0  0.936181  0.750380 -0.276443  0.017494  1.068965 -0.721976\n",
       "1  1.0  4.0  0.0      2.0    1.0    2.0  3.0  1.378929  1.596266  0.744555 -1.816334  0.381773  2.478425\n",
       "2  1.0  4.0  0.0      2.0    1.0    2.0  7.0  1.378929 -0.659431 -0.353500 -0.899420  1.326662  1.411625\n",
       "3  1.0  3.0  0.0      0.0    0.0    3.0  3.0 -1.941680 -0.095506  0.051047  1.633010  2.099753 -0.721976\n",
       "4  0.0  2.0  0.0      2.0    0.0    1.0  3.0 -1.498933 -0.095506 -0.835103  0.978071  0.295874 -0.721976"
      ]
     },
     "execution_count": 179,
     "metadata": {},
     "output_type": "execute_result"
    }
   ],
   "source": [
    "processed_features = pd.concat([categorical_features, numerical_features], axis=1, sort=False)\n",
    "\n",
    "processed_features.head()"
   ]
  },
  {
   "cell_type": "code",
   "execution_count": 180,
   "id": "705b1ac0",
   "metadata": {},
   "outputs": [],
   "source": [
    "X_train, X_test, y_train, y_test = train_test_split(processed_features,\n",
    "                                                   target,\n",
    "                                                   test_size=0.2,\n",
    "                                                   random_state=1)"
   ]
  },
  {
   "cell_type": "code",
   "execution_count": 181,
   "id": "c23608f2",
   "metadata": {},
   "outputs": [],
   "source": [
    "X_train, X_val, y_train, y_val = train_test_split(X_train,\n",
    "                                                 y_train,\n",
    "                                                 test_size=0.15,\n",
    "                                                 random_state=10)"
   ]
  },
  {
   "cell_type": "code",
   "execution_count": 182,
   "id": "2b498965",
   "metadata": {},
   "outputs": [
    {
     "data": {
      "text/plain": [
       "((201, 13), (60, 13), (36, 13))"
      ]
     },
     "execution_count": 182,
     "metadata": {},
     "output_type": "execute_result"
    }
   ],
   "source": [
    "X_train.shape, X_test.shape, X_val.shape"
   ]
  },
  {
   "cell_type": "code",
   "execution_count": 183,
   "id": "4b66b211",
   "metadata": {},
   "outputs": [
    {
     "data": {
      "text/plain": [
       "((201, 5), (60, 5), (36, 5))"
      ]
     },
     "execution_count": 183,
     "metadata": {},
     "output_type": "execute_result"
    }
   ],
   "source": [
    "y_train.shape, y_test.shape, y_val.shape"
   ]
  },
  {
   "cell_type": "code",
   "execution_count": 305,
   "id": "df144c90",
   "metadata": {},
   "outputs": [],
   "source": [
    "def build_model():\n",
    "    inputs = tf.keras.Input(shape=(X_train.shape[1],))\n",
    "    \n",
    "    dense_layer1 = layers.Dense(8, activation=\"relu\")\n",
    "    x = dense_layer1(inputs)\n",
    "    \n",
    "#     dense_layer2 = layers.Dense(8, activation=\"relu\")\n",
    "#     x = dense_layer2(x)\n",
    "    \n",
    "    prediction_layer = layers.Dense(5, activation=\"softmax\")\n",
    "    prediction = prediction_layer(x)\n",
    "    \n",
    "    model = tf.keras.Model(inputs=inputs, outputs=prediction)\n",
    "    \n",
    "    model.summary()\n",
    "    \n",
    "    model.compile(optimizer=tf.keras.optimizers.Adam(0.001),\n",
    "                 loss=\"categorical_crossentropy\",\n",
    "                 metrics=[\"accuracy\"])\n",
    "    return model\n",
    "    "
   ]
  },
  {
   "cell_type": "code",
   "execution_count": 306,
   "id": "f6081ef9",
   "metadata": {},
   "outputs": [
    {
     "name": "stdout",
     "output_type": "stream",
     "text": [
      "Model: \"model_35\"\n",
      "_________________________________________________________________\n",
      " Layer (type)                Output Shape              Param #   \n",
      "=================================================================\n",
      " input_39 (InputLayer)       [(None, 13)]              0         \n",
      "                                                                 \n",
      " dense_136 (Dense)           (None, 8)                 112       \n",
      "                                                                 \n",
      " dense_137 (Dense)           (None, 5)                 45        \n",
      "                                                                 \n",
      "=================================================================\n",
      "Total params: 157 (628.00 Byte)\n",
      "Trainable params: 157 (628.00 Byte)\n",
      "Non-trainable params: 0 (0.00 Byte)\n",
      "_________________________________________________________________\n"
     ]
    }
   ],
   "source": [
    "model = build_model()"
   ]
  },
  {
   "cell_type": "code",
   "execution_count": 307,
   "id": "f6634399",
   "metadata": {},
   "outputs": [
    {
     "data": {
      "image/png": "[encoded data removed]",
      "text/plain": [
       "<IPython.core.display.Image object>"
      ]
     },
     "execution_count": 307,
     "metadata": {},
     "output_type": "execute_result"
    }
   ],
   "source": [
    "keras.utils.plot_model(model, show_shapes=True)"
   ]
  },
  {
   "cell_type": "code",
   "execution_count": 308,
   "id": "41764df7",
   "metadata": {},
   "outputs": [
    {
     "data": {
      "text/plain": [
       "<_ShuffleDataset element_spec=(TensorSpec(shape=(None, 13), dtype=tf.float32, name=None), TensorSpec(shape=(None, 5), dtype=tf.float32, name=None))>"
      ]
     },
     "execution_count": 308,
     "metadata": {},
     "output_type": "execute_result"
    }
   ],
   "source": [
    "dataset_train = tf.data.Dataset.from_tensor_slices((X_train.values.astype(np.float32), y_train.astype(np.float32)))\n",
    "dataset_train = dataset_train.batch(16)\n",
    "dataset_train.shuffle(128)"
   ]
  },
  {
   "cell_type": "code",
   "execution_count": 309,
   "id": "0a3510b1",
   "metadata": {},
   "outputs": [],
   "source": [
    "dataset_val = tf.data.Dataset.from_tensor_slices((X_val.values.astype(np.float32), y_val.astype(np.float32)))\n",
    "dataset_val = dataset_val.batch(16)\n"
   ]
  },
  {
   "cell_type": "code",
   "execution_count": 314,
   "id": "d98bd209",
   "metadata": {},
   "outputs": [
    {
     "name": "stdout",
     "output_type": "stream",
     "text": [
      "Model: \"model_38\"\n",
      "_________________________________________________________________\n",
      " Layer (type)                Output Shape              Param #   \n",
      "=================================================================\n",
      " input_42 (InputLayer)       [(None, 13)]              0         \n",
      "                                                                 \n",
      " dense_142 (Dense)           (None, 8)                 112       \n",
      "                                                                 \n",
      " dense_143 (Dense)           (None, 5)                 45        \n",
      "                                                                 \n",
      "=================================================================\n",
      "Total params: 157 (628.00 Byte)\n",
      "Trainable params: 157 (628.00 Byte)\n",
      "Non-trainable params: 0 (0.00 Byte)\n",
      "_________________________________________________________________\n",
      "Epoch 1/50\n",
      "13/13 [==============================] - 1s 22ms/step - loss: 1.7123 - accuracy: 0.1692 - val_loss: 1.5992 - val_accuracy: 0.3611\n",
      "Epoch 2/50\n",
      "13/13 [==============================] - 0s 15ms/step - loss: 1.5829 - accuracy: 0.2587 - val_loss: 1.5317 - val_accuracy: 0.3333\n",
      "Epoch 3/50\n",
      "13/13 [==============================] - 0s 13ms/step - loss: 1.4968 - accuracy: 0.3483 - val_loss: 1.4919 - val_accuracy: 0.4444\n",
      "Epoch 4/50\n",
      "13/13 [==============================] - 0s 13ms/step - loss: 1.4380 - accuracy: 0.4279 - val_loss: 1.4664 - val_accuracy: 0.4444\n",
      "Epoch 5/50\n",
      "13/13 [==============================] - 0s 14ms/step - loss: 1.3961 - accuracy: 0.5224 - val_loss: 1.4481 - val_accuracy: 0.4444\n",
      "Epoch 6/50\n",
      "13/13 [==============================] - 0s 15ms/step - loss: 1.3646 - accuracy: 0.5323 - val_loss: 1.4319 - val_accuracy: 0.4167\n",
      "Epoch 7/50\n",
      "13/13 [==============================] - 0s 15ms/step - loss: 1.3392 - accuracy: 0.5522 - val_loss: 1.4155 - val_accuracy: 0.4444\n",
      "Epoch 8/50\n",
      "13/13 [==============================] - 0s 17ms/step - loss: 1.3175 - accuracy: 0.5572 - val_loss: 1.3983 - val_accuracy: 0.4444\n",
      "Epoch 9/50\n",
      "13/13 [==============================] - 0s 17ms/step - loss: 1.2979 - accuracy: 0.5522 - val_loss: 1.3808 - val_accuracy: 0.4722\n",
      "Epoch 10/50\n",
      "13/13 [==============================] - 0s 17ms/step - loss: 1.2789 - accuracy: 0.5572 - val_loss: 1.3641 - val_accuracy: 0.4722\n",
      "Epoch 11/50\n",
      "13/13 [==============================] - 0s 16ms/step - loss: 1.2608 - accuracy: 0.5522 - val_loss: 1.3483 - val_accuracy: 0.5000\n",
      "Epoch 12/50\n",
      "13/13 [==============================] - 0s 16ms/step - loss: 1.2441 - accuracy: 0.5473 - val_loss: 1.3323 - val_accuracy: 0.5000\n",
      "Epoch 13/50\n",
      "13/13 [==============================] - 0s 15ms/step - loss: 1.2278 - accuracy: 0.5522 - val_loss: 1.3177 - val_accuracy: 0.5000\n",
      "Epoch 14/50\n",
      "13/13 [==============================] - 0s 11ms/step - loss: 1.2120 - accuracy: 0.5622 - val_loss: 1.3047 - val_accuracy: 0.5833\n",
      "Epoch 15/50\n",
      "13/13 [==============================] - 0s 16ms/step - loss: 1.1970 - accuracy: 0.5672 - val_loss: 1.2931 - val_accuracy: 0.5833\n",
      "Epoch 16/50\n",
      "13/13 [==============================] - 0s 14ms/step - loss: 1.1827 - accuracy: 0.5771 - val_loss: 1.2829 - val_accuracy: 0.5833\n",
      "Epoch 17/50\n",
      "13/13 [==============================] - 0s 13ms/step - loss: 1.1691 - accuracy: 0.5920 - val_loss: 1.2734 - val_accuracy: 0.5833\n",
      "Epoch 18/50\n",
      "13/13 [==============================] - 0s 13ms/step - loss: 1.1566 - accuracy: 0.5970 - val_loss: 1.2633 - val_accuracy: 0.5833\n",
      "Epoch 19/50\n",
      "13/13 [==============================] - 0s 14ms/step - loss: 1.1448 - accuracy: 0.5920 - val_loss: 1.2538 - val_accuracy: 0.5833\n",
      "Epoch 20/50\n",
      "13/13 [==============================] - 0s 13ms/step - loss: 1.1334 - accuracy: 0.5970 - val_loss: 1.2452 - val_accuracy: 0.6111\n",
      "Epoch 21/50\n",
      "13/13 [==============================] - 0s 14ms/step - loss: 1.1232 - accuracy: 0.5970 - val_loss: 1.2374 - val_accuracy: 0.6111\n",
      "Epoch 22/50\n",
      "13/13 [==============================] - 0s 13ms/step - loss: 1.1138 - accuracy: 0.6020 - val_loss: 1.2297 - val_accuracy: 0.6111\n",
      "Epoch 23/50\n",
      "13/13 [==============================] - 0s 12ms/step - loss: 1.1046 - accuracy: 0.6020 - val_loss: 1.2214 - val_accuracy: 0.6111\n",
      "Epoch 24/50\n",
      "13/13 [==============================] - 0s 14ms/step - loss: 1.0955 - accuracy: 0.6020 - val_loss: 1.2132 - val_accuracy: 0.6111\n",
      "Epoch 25/50\n",
      "13/13 [==============================] - 0s 13ms/step - loss: 1.0864 - accuracy: 0.6119 - val_loss: 1.2054 - val_accuracy: 0.6111\n",
      "Epoch 26/50\n",
      "13/13 [==============================] - 0s 14ms/step - loss: 1.0774 - accuracy: 0.6119 - val_loss: 1.1990 - val_accuracy: 0.6111\n",
      "Epoch 27/50\n",
      "13/13 [==============================] - 0s 14ms/step - loss: 1.0689 - accuracy: 0.6219 - val_loss: 1.1934 - val_accuracy: 0.6111\n",
      "Epoch 28/50\n",
      "13/13 [==============================] - 0s 14ms/step - loss: 1.0606 - accuracy: 0.6269 - val_loss: 1.1880 - val_accuracy: 0.6111\n",
      "Epoch 29/50\n",
      "13/13 [==============================] - 0s 14ms/step - loss: 1.0527 - accuracy: 0.6219 - val_loss: 1.1829 - val_accuracy: 0.6111\n",
      "Epoch 30/50\n",
      "13/13 [==============================] - 0s 13ms/step - loss: 1.0451 - accuracy: 0.6169 - val_loss: 1.1783 - val_accuracy: 0.6111\n",
      "Epoch 31/50\n",
      "13/13 [==============================] - 0s 13ms/step - loss: 1.0378 - accuracy: 0.6119 - val_loss: 1.1741 - val_accuracy: 0.6389\n",
      "Epoch 32/50\n",
      "13/13 [==============================] - 0s 12ms/step - loss: 1.0310 - accuracy: 0.6169 - val_loss: 1.1702 - val_accuracy: 0.6389\n",
      "Epoch 33/50\n",
      "13/13 [==============================] - 0s 14ms/step - loss: 1.0243 - accuracy: 0.6269 - val_loss: 1.1662 - val_accuracy: 0.6389\n",
      "Epoch 34/50\n",
      "13/13 [==============================] - 0s 14ms/step - loss: 1.0178 - accuracy: 0.6219 - val_loss: 1.1624 - val_accuracy: 0.6389\n",
      "Epoch 35/50\n",
      "13/13 [==============================] - 0s 12ms/step - loss: 1.0114 - accuracy: 0.6219 - val_loss: 1.1585 - val_accuracy: 0.6389\n",
      "Epoch 36/50\n",
      "13/13 [==============================] - 0s 14ms/step - loss: 1.0056 - accuracy: 0.6269 - val_loss: 1.1547 - val_accuracy: 0.6389\n",
      "Epoch 37/50\n",
      "13/13 [==============================] - 0s 15ms/step - loss: 0.9999 - accuracy: 0.6269 - val_loss: 1.1514 - val_accuracy: 0.6389\n",
      "Epoch 38/50\n",
      "13/13 [==============================] - 0s 12ms/step - loss: 0.9947 - accuracy: 0.6269 - val_loss: 1.1484 - val_accuracy: 0.6389\n",
      "Epoch 39/50\n",
      "13/13 [==============================] - 0s 12ms/step - loss: 0.9898 - accuracy: 0.6269 - val_loss: 1.1460 - val_accuracy: 0.6389\n",
      "Epoch 40/50\n",
      "13/13 [==============================] - 0s 15ms/step - loss: 0.9851 - accuracy: 0.6269 - val_loss: 1.1438 - val_accuracy: 0.6389\n",
      "Epoch 41/50\n",
      "13/13 [==============================] - 0s 13ms/step - loss: 0.9805 - accuracy: 0.6269 - val_loss: 1.1415 - val_accuracy: 0.6389\n",
      "Epoch 42/50\n",
      "13/13 [==============================] - 0s 12ms/step - loss: 0.9761 - accuracy: 0.6318 - val_loss: 1.1391 - val_accuracy: 0.6389\n",
      "Epoch 43/50\n",
      "13/13 [==============================] - 0s 14ms/step - loss: 0.9717 - accuracy: 0.6318 - val_loss: 1.1369 - val_accuracy: 0.6389\n",
      "Epoch 44/50\n",
      "13/13 [==============================] - 0s 13ms/step - loss: 0.9674 - accuracy: 0.6269 - val_loss: 1.1348 - val_accuracy: 0.6389\n",
      "Epoch 45/50\n",
      "13/13 [==============================] - 0s 15ms/step - loss: 0.9630 - accuracy: 0.6269 - val_loss: 1.1325 - val_accuracy: 0.6389\n",
      "Epoch 46/50\n",
      "13/13 [==============================] - 0s 13ms/step - loss: 0.9588 - accuracy: 0.6269 - val_loss: 1.1300 - val_accuracy: 0.6389\n",
      "Epoch 47/50\n",
      "13/13 [==============================] - 0s 15ms/step - loss: 0.9547 - accuracy: 0.6269 - val_loss: 1.1275 - val_accuracy: 0.6389\n",
      "Epoch 48/50\n",
      "13/13 [==============================] - 0s 15ms/step - loss: 0.9508 - accuracy: 0.6269 - val_loss: 1.1250 - val_accuracy: 0.6389\n",
      "Epoch 49/50\n",
      "13/13 [==============================] - 0s 16ms/step - loss: 0.9470 - accuracy: 0.6269 - val_loss: 1.1221 - val_accuracy: 0.6389\n",
      "Epoch 50/50\n",
      "13/13 [==============================] - 0s 13ms/step - loss: 0.9433 - accuracy: 0.6269 - val_loss: 1.1197 - val_accuracy: 0.6389\n"
     ]
    }
   ],
   "source": [
    "model = build_model()\n",
    "training_history = model.fit(dataset_train, epochs=50, validation_data=dataset_val)"
   ]
  },
  {
   "cell_type": "code",
   "execution_count": 315,
   "id": "3f7f9b02",
   "metadata": {},
   "outputs": [
    {
     "data": {
      "text/plain": [
       "dict_keys(['loss', 'accuracy', 'val_loss', 'val_accuracy'])"
      ]
     },
     "execution_count": 315,
     "metadata": {},
     "output_type": "execute_result"
    }
   ],
   "source": [
    "training_history.history.keys()"
   ]
  },
  {
   "cell_type": "code",
   "execution_count": 316,
   "id": "2c3dcbde",
   "metadata": {},
   "outputs": [
    {
     "name": "stdout",
     "output_type": "stream",
     "text": [
      "2/2 [==============================] - 0s 8ms/step - loss: 1.1384 - accuracy: 0.5000\n"
     ]
    },
    {
     "data": {
      "text/plain": [
       "loss        1.138388\n",
       "accuracy    0.500000\n",
       "dtype: float64"
      ]
     },
     "execution_count": 316,
     "metadata": {},
     "output_type": "execute_result"
    }
   ],
   "source": [
    "score = model.evaluate(X_test.values.astype(np.float32), y_test)\n",
    "\n",
    "score_df = pd.Series(score, index=model.metrics_names)\n",
    "\n",
    "score_df"
   ]
  },
  {
   "cell_type": "code",
   "execution_count": 319,
   "id": "4e0e7996",
   "metadata": {},
   "outputs": [
    {
     "name": "stdout",
     "output_type": "stream",
     "text": [
      "2/2 [==============================] - 0s 0s/step\n"
     ]
    },
    {
     "data": {
      "text/plain": [
       "array([[0.9434819 , 0.03787346, 0.00581687, 0.00625234, 0.00657541],\n",
       "       [0.14849567, 0.31180137, 0.22201155, 0.241111  , 0.07658039],\n",
       "       [0.6591726 , 0.24333031, 0.04757586, 0.03486446, 0.01505674],\n",
       "       [0.9529295 , 0.03257973, 0.00501118, 0.00358233, 0.00589729],\n",
       "       [0.12617442, 0.2569195 , 0.20726104, 0.25740504, 0.15223992],\n",
       "       [0.26295912, 0.25188154, 0.0657539 , 0.27884352, 0.14056195],\n",
       "       [0.67725915, 0.20474029, 0.04411494, 0.04746744, 0.0264182 ],\n",
       "       [0.02792454, 0.20090987, 0.09204609, 0.5219132 , 0.15720622],\n",
       "       [0.0599463 , 0.08820944, 0.40400797, 0.22500949, 0.22282682],\n",
       "       [0.01880516, 0.04498926, 0.40869638, 0.2591707 , 0.2683384 ]],\n",
       "      dtype=float32)"
      ]
     },
     "execution_count": 319,
     "metadata": {},
     "output_type": "execute_result"
    }
   ],
   "source": [
    "y_pred = model.predict(X_test.values.astype(np.float32))\n",
    "y_pred[:10]"
   ]
  },
  {
   "cell_type": "code",
   "execution_count": 320,
   "id": "40e7b7a3",
   "metadata": {},
   "outputs": [
    {
     "data": {
      "text/plain": [
       "array([[1., 0., 0., 0., 0.],\n",
       "       [0., 0., 0., 0., 0.],\n",
       "       [1., 0., 0., 0., 0.],\n",
       "       [1., 0., 0., 0., 0.],\n",
       "       [0., 0., 0., 0., 0.],\n",
       "       [0., 0., 0., 0., 0.],\n",
       "       [1., 0., 0., 0., 0.],\n",
       "       [0., 0., 0., 1., 0.],\n",
       "       [0., 0., 0., 0., 0.],\n",
       "       [0., 0., 0., 0., 0.]], dtype=float32)"
      ]
     },
     "execution_count": 320,
     "metadata": {},
     "output_type": "execute_result"
    }
   ],
   "source": [
    "y_pred = np.where(y_pred >= 0.5, 1, y_pred)\n",
    "y_pred = np.where(y_pred < 0.5, 0, y_pred)\n",
    "\n",
    "y_pred[:10]"
   ]
  },
  {
   "cell_type": "code",
   "execution_count": null,
   "id": "46d13760",
   "metadata": {},
   "outputs": [],
   "source": []
  }
 ],
 "metadata": {
  "kernelspec": {
   "display_name": "Python 3 (ipykernel)",
   "language": "python",
   "name": "python3"
  },
  "language_info": {
   "codemirror_mode": {
    "name": "ipython",
    "version": 3
   },
   "file_extension": ".py",
   "mimetype": "text/x-python",
   "name": "python",
   "nbconvert_exporter": "python",
   "pygments_lexer": "ipython3",
   "version": "3.11.3"
  }
 },
 "nbformat": 4,
 "nbformat_minor": 5
}
